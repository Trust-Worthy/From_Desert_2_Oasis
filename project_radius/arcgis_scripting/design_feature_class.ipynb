{
 "cells": [
  {
   "cell_type": "code",
   "execution_count": 22,
   "metadata": {},
   "outputs": [],
   "source": [
    "import arcpy\n",
    "import os\n",
    "from dotenv import load_dotenv\n",
    "\n",
    "\n",
    "load_dotenv()\n",
    "gdb_path = os.getenv('GDB_PATH')\n",
    "# Convert the file path to a raw string\n",
    "gdb_path = r\"{}\".format(gdb_path)\n",
    "feature_class_path = os.path.join(gdb_path,\"feature_class1\")\n",
    "feature_class_path = r\"{}\".format(feature_class_path)"
   ]
  },
  {
   "cell_type": "code",
   "execution_count": null,
   "metadata": {},
   "outputs": [],
   "source": [
    "### Check that both the geodatabase and feature class exist\n",
    "if arcpy.Exists(gdb_path): \n",
    "    print(f\"Geodatabase exists: {gdb_path}\")\n",
    "if arcpy.Exists(feature_class_path):\n",
    "    print(f\"Feature Class exists: {feature_class_path}\" )"
   ]
  }
 ],
 "metadata": {
  "kernelspec": {
   "display_name": "arcgispro-py3",
   "language": "python",
   "name": "python3"
  },
  "language_info": {
   "codemirror_mode": {
    "name": "ipython",
    "version": 3
   },
   "file_extension": ".py",
   "mimetype": "text/x-python",
   "name": "python",
   "nbconvert_exporter": "python",
   "pygments_lexer": "ipython3",
   "version": "3.11.8"
  }
 },
 "nbformat": 4,
 "nbformat_minor": 2
}
