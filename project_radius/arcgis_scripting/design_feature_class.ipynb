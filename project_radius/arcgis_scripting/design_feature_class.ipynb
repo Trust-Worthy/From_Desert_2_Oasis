{
 "cells": [
  {
   "cell_type": "code",
   "execution_count": null,
   "metadata": {},
   "outputs": [],
   "source": [
    "import arcpy\n",
    "import os\n",
    "from dotenv import load_dotenv\n",
    "from pathlib import Path\n",
    "import json\n",
    "import arcpy\n",
    "from arcpy.da import InsertCursor\n",
    "from shapely.geometry import Point\n",
    "\n",
    "###################################################\n",
    "########## path to geodatabase ####################\n",
    "load_dotenv() # --> load in path via env variable \n",
    "raw_path:str = os.getenv('GDB_PATH')\n",
    "GDB_PATH:str = r\"{}\".format(raw_path)\n",
    "if arcpy.Exists(GDB_PATH): \n",
    "    print(f\"Geodatabase exists: {GDB_PATH}\")\n",
    "else:\n",
    "    print(f\"Geodatabase DNE: {GDB_PATH}\")\n",
    "\n",
    "###################################################\n",
    "#####  Spatial Refernce for Project: WGS 84  ######\n",
    "\n",
    "SPATIAL_REF= arcpy.SpatialReference(4326) # WGS 84 (latitude/longitude)\n",
    "\n",
    "\n",
    "###################################################\n",
    "#######     Paths to all json files         #######\n",
    "\"\"\"\n",
    "All Json files contain points representing:\n",
    "- grocery stores\n",
    "- convenience stores\n",
    "- cornerstores\n",
    "- cannabis and liquor stores\n",
    "- farmers markets\n",
    "- fast food restaurants\n",
    "- food banks\n",
    "- mini marts\n",
    "\"\"\"\n",
    "GROCERY_JSON_PATH:object = Path(r\"..\\data_collection\\grocery_edited.json\")\n",
    "CONVENIENCE_JSON_PATH:object= Path(r\"..\\data_collection\\convenience.json\")\n",
    "CORNERSTORE_JSON_PATH:object = Path(r\"..\\data_collection\\cornerstore.json\")\n",
    "DRUGS_NLIQUOR_JSON_PATH:object = Path(r\"..\\data_collection\\drugs_nliquor.json\")\n",
    "FARM_MARKER_JSON_PATH:object = Path(r\"..\\data_collection\\farm_market.json\")\n",
    "FAST_FOOD_JSON_PATH:object = Path(r\"..\\data_collection\\fast_food.json\")\n",
    "FOOD_BANK_JSON_PATH:object = Path(r\"..\\data_collection\\food_bank.json\")\n",
    "MINI_MART_JSON_PATH:object = Path(r\"..\\data_collection\\mini_mart.json\")\n",
    "\n",
    "PATH_LIST:list[object] = [GROCERY_JSON_PATH,\n",
    "             CONVENIENCE_JSON_PATH,\n",
    "             CORNERSTORE_JSON_PATH,\n",
    "             DRUGS_NLIQUOR_JSON_PATH,\n",
    "             FARM_MARKER_JSON_PATH,\n",
    "             FAST_FOOD_JSON_PATH,\n",
    "             FOOD_BANK_JSON_PATH,\n",
    "             MINI_MART_JSON_PATH\n",
    "             ]\n",
    "\n",
    "for path in PATH_LIST:\n",
    "    if path.exists():\n",
    "        print(f\"{path.name} exists\")\n",
    "    else:\n",
    "        print(f\"{path.name} doesn't exist\")"
   ]
  },
  {
   "cell_type": "markdown",
   "metadata": {},
   "source": [
    "### Grocery Store Data Processing"
   ]
  },
  {
   "cell_type": "code",
   "execution_count": 2,
   "metadata": {},
   "outputs": [
    {
     "name": "stdout",
     "output_type": "stream",
     "text": [
      "Grocery Feature Class was successfully created\n"
     ]
    }
   ],
   "source": [
    "\"\"\"\n",
    "Grocery Store Data --> Creating a feature layer that has all the coordinates of grocery stores.\n",
    "\n",
    "Each point will also have a 0.5 mile radius (a colored circle visually) that will signify the \"reach\" that a grocery store has\n",
    "as a proof of concept. \n",
    "\"\"\"\n",
    "\n",
    "### Create the grocery store feature layer ###\n",
    "GROCERY_FC = \"grocery_store_fc\"\n",
    "GROCERY_FC_PATH = os.path.join(GDB_PATH,GROCERY_FC)\n",
    "\n",
    "arcpy.CreateFeatureclass_management(GDB_PATH,GROCERY_FC,\"POINT\")\n",
    "\n",
    "### Make sure to define the coordinate system / spatial reference of any feature class that is created\n",
    "arcpy.DefineProjection_management(GROCERY_FC, SPATIAL_REF)\n",
    "\n",
    "### Verify that the grocery feature class was successfully created ###\n",
    "if arcpy.Exists(GROCERY_FC_PATH):\n",
    "    print(\"Grocery Feature Class was successfully created\")\n",
    "else:\n",
    "    print(\"Grocer Feature Class DNE: Error\")"
   ]
  },
  {
   "cell_type": "code",
   "execution_count": null,
   "metadata": {},
   "outputs": [
    {
     "name": "stdout",
     "output_type": "stream",
     "text": [
      "Fields in the feature class:\n",
      "OBJECTID\n",
      "Shape\n",
      "X_Coord\n",
      "Y_Coord\n",
      "Address\n",
      "The field 'Address' exists.\n",
      "The field 'X_Coord' exists.\n",
      "The field 'Y_Coord' exists.\n"
     ]
    }
   ],
   "source": [
    "### Check existing fields in Grocery Feature Class ###\n",
    "print(\"Fields in the feature class:\")\n",
    "for field in arcpy.ListFields(GROCERY_FC_PATH):\n",
    "    print(field.name)\n",
    "\n",
    "### Add fields for storing coordinates for easier calculations later ###\n",
    "arcpy.AddField_management(GROCERY_FC_PATH, \"X_Coord\", \"DOUBLE\")\n",
    "arcpy.AddField_management(GROCERY_FC_PATH, \"Y_Coord\", \"DOUBLE\")\n",
    "arcpy.AddField_management(GROCERY_FC_PATH,\"Address\",\"TEXT\")\n",
    "\n",
    "required_fields:list[str] = [\"Address\", \"X_Coord\", \"Y_Coord\"]\n",
    "for required_field in required_fields:\n",
    "    if any(field.name == required_field for field in arcpy.ListFields(GROCERY_FC_PATH)):\n",
    "        print(f\"The field '{required_field}' exists.\")\n",
    "    else:\n",
    "        print(f\"The field '{required_field}' does not exist.\")\n"
   ]
  },
  {
   "cell_type": "code",
   "execution_count": 8,
   "metadata": {},
   "outputs": [
    {
     "name": "stdout",
     "output_type": "stream",
     "text": [
      "Grocery Feature Layer exists\n"
     ]
    }
   ],
   "source": [
    "### Process Grocery JSON file ###\n",
    "with open(GROCERY_JSON_PATH) as file:\n",
    "    GROCERY_JSON = json.load(file)\n",
    "\n",
    "# Step 3: Insert points into the feature class from the JSON data\n",
    "with arcpy.da.InsertCursor(GROCERY_FC_PATH, [\"SHAPE\", \"Address\", \"X_Coord\", \"Y_Coord\"]) as cursor:\n",
    "    for address, coords in GROCERY_JSON.items():\n",
    "        # Create a point geometry object using the x and y coordinates\n",
    "        point = arcpy.Point(coords[1], coords[0])  # coords[1] is longitude (X), coords[0] is latitude (Y)\n",
    "        \n",
    "        # Prepare the row with geometry and attributes\n",
    "        row = [point, address, coords[1], coords[0]]  # X_Coord is longitude, Y_Coord is latitude\n",
    "        \n",
    "        # Insert the row into the feature class\n",
    "        cursor.insertRow(row)\n",
    "\n",
    "# Step 4: Create a feature layer from the feature class\n",
    "GROCERY_FL = \"grocery_fl\"\n",
    "arcpy.MakeFeatureLayer_management(GROCERY_FC_PATH, GROCERY_FL)\n",
    "\n",
    "if arcpy.Exists(GROCERY_FL):\n",
    "    print(\"Grocery Feature Layer exists\")\n",
    "else:\n",
    "    print(\"Grocery feature layer DNE:error\")"
   ]
  },
  {
   "cell_type": "code",
   "execution_count": null,
   "metadata": {},
   "outputs": [],
   "source": []
  },
  {
   "cell_type": "code",
   "execution_count": null,
   "metadata": {},
   "outputs": [],
   "source": []
  }
 ],
 "metadata": {
  "kernelspec": {
   "display_name": "arcgispro-py3",
   "language": "python",
   "name": "python3"
  },
  "language_info": {
   "codemirror_mode": {
    "name": "ipython",
    "version": 3
   },
   "file_extension": ".py",
   "mimetype": "text/x-python",
   "name": "python",
   "nbconvert_exporter": "python",
   "pygments_lexer": "ipython3",
   "version": "3.11.8"
  }
 },
 "nbformat": 4,
 "nbformat_minor": 2
}
