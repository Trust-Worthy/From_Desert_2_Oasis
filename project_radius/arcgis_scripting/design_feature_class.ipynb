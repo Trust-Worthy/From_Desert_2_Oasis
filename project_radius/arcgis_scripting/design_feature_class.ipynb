{
 "cells": [
  {
   "cell_type": "code",
   "execution_count": 1,
   "metadata": {},
   "outputs": [],
   "source": [
    "import arcpy\n",
    "import os\n",
    "from dotenv import load_dotenv\n",
    "from pathlib import Path\n",
    "\n",
    "load_dotenv()\n",
    "gdb_path = os.getenv('GDB_PATH')\n",
    "# Convert the file path to a raw string\n",
    "gdb_path = r\"{}\".format(gdb_path)\n",
    "feature_class_path = os.path.join(gdb_path,\"feature_class1\")\n",
    "feature_class_path = r\"{}\".format(feature_class_path)"
   ]
  },
  {
   "cell_type": "code",
   "execution_count": 2,
   "metadata": {},
   "outputs": [
    {
     "name": "stdout",
     "output_type": "stream",
     "text": [
      "Geodatabase exists: C:\\Users\\jbfre\\Documents\\ArcGIS\\Projects\\From_Desert2_Oasis\\From_Desert2_Oasis.gdb\n",
      "Feature Class exists: C:\\Users\\jbfre\\Documents\\ArcGIS\\Projects\\From_Desert2_Oasis\\From_Desert2_Oasis.gdb\\feature_class1\n"
     ]
    }
   ],
   "source": [
    "### Check that both the geodatabase and feature class exist\n",
    "if arcpy.Exists(gdb_path): \n",
    "    print(f\"Geodatabase exists: {gdb_path}\")\n",
    "if arcpy.Exists(feature_class_path):\n",
    "    print(f\"Feature Class exists: {feature_class_path}\" )"
   ]
  },
  {
   "cell_type": "code",
   "execution_count": 10,
   "metadata": {},
   "outputs": [
    {
     "name": "stdout",
     "output_type": "stream",
     "text": [
      "grocery.json exists\n",
      "convenience.json exists\n",
      "cornerstore.json exists\n",
      "drugs_nliquor.json exists\n",
      "farm_market.json exists\n",
      "fast_food.json exists\n",
      "food_bank.json exists\n",
      "mini_mart.json exists\n"
     ]
    }
   ],
   "source": [
    "\n",
    "### Get all the paths to the json coordinate data\n",
    "grocery_data_path = Path(r\"..\\data_collection\\grocery.json\")\n",
    "convenience_data_path = Path(r\"..\\data_collection\\convenience.json\")\n",
    "cornerstore_data_path = Path(r\"..\\data_collection\\cornerstore.json\")\n",
    "drugs_nliquor_data_path = Path(r\"..\\data_collection\\drugs_nliquor.json\")\n",
    "farm_market_data_path = Path(r\"..\\data_collection\\farm_market.json\")\n",
    "fast_food_data_path = Path(r\"..\\data_collection\\fast_food.json\")\n",
    "food_bank_data_path = Path(r\"..\\data_collection\\food_bank.json\")\n",
    "mini_mart_data_path = Path(r\"..\\data_collection\\mini_mart.json\")\n",
    "\n",
    "DATA_PATH_LIST = [grocery_data_path,convenience_data_path,\n",
    "                  cornerstore_data_path,\n",
    "                  drugs_nliquor_data_path,\n",
    "                  farm_market_data_path,\n",
    "                  fast_food_data_path,\n",
    "                  food_bank_data_path,\n",
    "                  mini_mart_data_path\n",
    "                  ]\n",
    "\n",
    "for path in DATA_PATH_LIST:\n",
    "    if path.exists():\n",
    "        print(f\"{path.name} exists\")\n",
    "    else:\n",
    "        print(f\"{path.name} doesn't exist\")\n"
   ]
  },
  {
   "cell_type": "code",
   "execution_count": 17,
   "metadata": {},
   "outputs": [],
   "source": [
    "### Load in json data and plot on feature layer\n",
    "import json\n",
    "import arcpy\n",
    "from arcpy.da import InsertCursor\n",
    "from shapely.geometry import Point\n",
    "\n",
    "spatial_ref = arcpy.SpatialReference(4326) # WGS 84 (latitude/longitude)\n"
   ]
  },
  {
   "cell_type": "code",
   "execution_count": 20,
   "metadata": {},
   "outputs": [
    {
     "name": "stdout",
     "output_type": "stream",
     "text": [
      "OBJECTID\n",
      "Shape\n",
      "Color\n"
     ]
    }
   ],
   "source": [
    "for field in arcpy.ListFields(feature_class_path):\n",
    "    print(field.name)"
   ]
  },
  {
   "cell_type": "code",
   "execution_count": 29,
   "metadata": {},
   "outputs": [],
   "source": [
    "with open(grocery_data_path,'r') as file:\n",
    "    grocery_json = json.load(file)\n",
    "\n",
    "grocery_fields = ['Shape','Color']\n",
    "\n",
    "# Add the 'Color' field to the feature class if it doesn't already exist\n",
    "if 'Color' not in [f.name for f in arcpy.ListFields(feature_class_path)]:\n",
    "    arcpy.AddField_management(feature_class_path, 'Color', 'TEXT', field_length=50)\n",
    "\n",
    "# Create an insert cursor to add data to the feature class\n",
    "with arcpy.da.InsertCursor(feature_class_path,grocery_fields) as cursor:\n",
    "    for address, coordinates in grocery_json.items():\n",
    "        lat = coordinates[0]\n",
    "        lon = coordinates[1]\n",
    "\n",
    "        # Create a point geometry (WGS84)\n",
    "        point = arcpy.Point(lon, lat)\n",
    "        point_geometry = arcpy.PointGeometry(point, spatial_ref)\n",
    "\n",
    "        # Insert the point into the feature class\n",
    "        cursor.insertRow([point_geometry,'green'])"
   ]
  }
 ],
 "metadata": {
  "kernelspec": {
   "display_name": "Python 3",
   "language": "python",
   "name": "python3"
  },
  "language_info": {
   "codemirror_mode": {
    "name": "ipython",
    "version": 3
   },
   "file_extension": ".py",
   "mimetype": "text/x-python",
   "name": "python",
   "nbconvert_exporter": "python",
   "pygments_lexer": "ipython3",
   "version": "3.11.8"
  }
 },
 "nbformat": 4,
 "nbformat_minor": 2
}
