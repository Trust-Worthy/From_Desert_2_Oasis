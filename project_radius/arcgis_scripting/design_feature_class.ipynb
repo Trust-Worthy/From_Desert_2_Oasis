{
 "cells": [
  {
   "cell_type": "code",
   "execution_count": 35,
   "metadata": {},
   "outputs": [
    {
     "name": "stdout",
     "output_type": "stream",
     "text": [
      "Geodatabase exists: C:\\Users\\jbfre\\Documents\\ArcGIS\\Projects\\From_Desert_2_Oasis\\From_Desert_2_Oasis.gdb\n",
      "grocery_edited.json exists\n",
      "convenience.json exists\n",
      "cornerstore.json exists\n",
      "drugs_nliquor.json exists\n",
      "farm_market.json exists\n",
      "fast_food.json exists\n",
      "food_bank.json exists\n",
      "mini_mart.json exists\n"
     ]
    }
   ],
   "source": [
    "import arcpy\n",
    "import os\n",
    "from dotenv import load_dotenv\n",
    "from pathlib import Path\n",
    "import json\n",
    "import arcpy\n",
    "from arcpy.da import InsertCursor\n",
    "from shapely.geometry import Point\n",
    "\n",
    "###################################################\n",
    "########## path to geodatabase ####################\n",
    "load_dotenv() # --> load in path via env variable \n",
    "raw_path:str = os.getenv('GDB_PATH')\n",
    "GDB_PATH:str = r\"{}\".format(raw_path)\n",
    "if arcpy.Exists(GDB_PATH): \n",
    "    print(f\"Geodatabase exists: {GDB_PATH}\")\n",
    "else:\n",
    "    print(f\"Geodatabase DNE: {GDB_PATH}\")\n",
    "\n",
    "###################################################\n",
    "#####  Spatial Refernce for Project: WGS 84  ######\n",
    "\n",
    "SPATIAL_REF= arcpy.SpatialReference(4326) # WGS 84 (latitude/longitude)\n",
    "#SPATIAL_REF = arcpy.SpatialReference(26918)\n",
    "\n",
    "###################################################\n",
    "#######     Paths to all json files         #######\n",
    "\"\"\"\n",
    "All Json files contain points representing:\n",
    "- grocery stores\n",
    "- convenience stores\n",
    "- cornerstores\n",
    "- cannabis and liquor stores\n",
    "- farmers markets\n",
    "- fast food restaurants\n",
    "- food banks\n",
    "- mini marts\n",
    "\"\"\"\n",
    "GROCERY_JSON_PATH:object = Path(r\"..\\data_collection\\grocery_edited.json\")\n",
    "CONVENIENCE_JSON_PATH:object= Path(r\"..\\data_collection\\convenience.json\")\n",
    "CORNERSTORE_JSON_PATH:object = Path(r\"..\\data_collection\\cornerstore.json\")\n",
    "DRUGS_NLIQUOR_JSON_PATH:object = Path(r\"..\\data_collection\\drugs_nliquor.json\")\n",
    "FARM_MARKER_JSON_PATH:object = Path(r\"..\\data_collection\\farm_market.json\")\n",
    "FAST_FOOD_JSON_PATH:object = Path(r\"..\\data_collection\\fast_food.json\")\n",
    "FOOD_BANK_JSON_PATH:object = Path(r\"..\\data_collection\\food_bank.json\")\n",
    "MINI_MART_JSON_PATH:object = Path(r\"..\\data_collection\\mini_mart.json\")\n",
    "\n",
    "PATH_LIST:list[object] = [GROCERY_JSON_PATH,\n",
    "             CONVENIENCE_JSON_PATH,\n",
    "             CORNERSTORE_JSON_PATH,\n",
    "             DRUGS_NLIQUOR_JSON_PATH,\n",
    "             FARM_MARKER_JSON_PATH,\n",
    "             FAST_FOOD_JSON_PATH,\n",
    "             FOOD_BANK_JSON_PATH,\n",
    "             MINI_MART_JSON_PATH\n",
    "             ]\n",
    "\n",
    "for path in PATH_LIST:\n",
    "    if path.exists():\n",
    "        print(f\"{path.name} exists\")\n",
    "    else:\n",
    "        print(f\"{path.name} doesn't exist\")\n",
    "\n",
    "BUFFER_DISTANCE = \"0.5 miles\"\n"
   ]
  },
  {
   "cell_type": "markdown",
   "metadata": {},
   "source": [
    "### Grocery Store Data Processing"
   ]
  },
  {
   "cell_type": "code",
   "execution_count": 36,
   "metadata": {},
   "outputs": [
    {
     "name": "stdout",
     "output_type": "stream",
     "text": [
      "Grocery Feature Class already exists... deleting and creating a new one \n"
     ]
    }
   ],
   "source": [
    "\"\"\"\n",
    "Grocery Store Data --> Creating a feature layer that has all the coordinates of grocery stores.\n",
    "\n",
    "Each point will also have a 0.5 mile radius (a colored circle visually) that will signify the \"reach\" that a grocery store has\n",
    "as a proof of concept. \n",
    "\"\"\"\n",
    "\n",
    "### Create the grocery store feature class ###\n",
    "GROCERY_FC = \"grocery_store_fc\"\n",
    "GROCERY_FC_PATH = os.path.join(GDB_PATH,GROCERY_FC)\n",
    "\n",
    "### Make sure to define the coordinate system / spatial reference of any feature class that is created\n",
    "arcpy.DefineProjection_management(GROCERY_FC_PATH, SPATIAL_REF)\n",
    "\n",
    "\n",
    "### Verify that the grocery feature class was successfully created ###\n",
    "if arcpy.Exists(GROCERY_FC_PATH):\n",
    "    arcpy.Delete_management(GROCERY_FC_PATH)\n",
    "    print(\"Grocery Feature Class already exists... deleting and creating a new one \")\n",
    "    arcpy.CreateFeatureclass_management(GDB_PATH,GROCERY_FC,\"POINT\")\n",
    "    \n",
    "else:\n",
    "    arcpy.CreateFeatureclass_management(GDB_PATH,GROCERY_FC,\"POINT\")\n",
    "    if arcpy.Exists(GROCERY_FC_PATH):\n",
    "        print(\"Grocery Feature Class created successfully\")\n",
    "    else:\n",
    "        print(\"Grocer Feature Class DNE: Error\")\n"
   ]
  },
  {
   "cell_type": "code",
   "execution_count": 37,
   "metadata": {},
   "outputs": [
    {
     "name": "stdout",
     "output_type": "stream",
     "text": [
      "Fields in the feature class:\n",
      "OBJECTID\n",
      "Shape\n",
      "The field 'Address' exists.\n",
      "The field 'X_Coord' exists.\n",
      "The field 'Y_Coord' exists.\n"
     ]
    }
   ],
   "source": [
    "### Check existing fields in Grocery Feature Class ###\n",
    "print(\"Fields in the feature class:\")\n",
    "for field in arcpy.ListFields(GROCERY_FC_PATH):\n",
    "    print(field.name)\n",
    "\n",
    "### Add fields for storing coordinates for easier calculations later ###\n",
    "arcpy.AddField_management(GROCERY_FC_PATH, \"X_Coord\", \"DOUBLE\")\n",
    "arcpy.AddField_management(GROCERY_FC_PATH, \"Y_Coord\", \"DOUBLE\")\n",
    "arcpy.AddField_management(GROCERY_FC_PATH,\"Address\",\"TEXT\")\n",
    "\n",
    "required_fields:list[str] = [\"Address\", \"X_Coord\", \"Y_Coord\"]\n",
    "for required_field in required_fields:\n",
    "    if any(field.name == required_field for field in arcpy.ListFields(GROCERY_FC_PATH)):\n",
    "        print(f\"The field '{required_field}' exists.\")\n",
    "    else:\n",
    "        print(f\"The field '{required_field}' does not exist.\")\n"
   ]
  },
  {
   "cell_type": "code",
   "execution_count": 38,
   "metadata": {},
   "outputs": [],
   "source": [
    "### Process Grocery JSON file ###\n",
    "with open(GROCERY_JSON_PATH) as file:\n",
    "    GROCERY_JSON = json.load(file)\n",
    "\n",
    "# Step 3: Insert points into the feature class from the JSON data\n",
    "with arcpy.da.InsertCursor(GROCERY_FC_PATH, [\"SHAPE\", \"Address\", \"X_Coord\", \"Y_Coord\"]) as cursor:\n",
    "    for address, coords in GROCERY_JSON.items():\n",
    "        # Create a point geometry object using the x and y coordinates\n",
    "        point = arcpy.Point(coords[1], coords[0])  # coords[1] is longitude (X), coords[0] is latitude (Y)\n",
    "        \n",
    "        # Prepare the row with geometry and attributes\n",
    "        row = [point, address, coords[1], coords[0]]  # X_Coord is longitude, Y_Coord is latitude\n",
    "        \n",
    "        # Insert the row into the feature class\n",
    "        cursor.insertRow(row)\n",
    "\n",
    "# Step 4: Create a feature layer from the feature class\n",
    "GROCERY_FL = \"grocery_fl\"\n",
    "if arcpy.Exists(GROCERY_FL):\n",
    "    print(\"grocery feature layer exists... deleting and creating a new one \")\n",
    "    arcpy.Delete_management(GROCERY_FL)\n",
    "    arcpy.DefineProjection_management(GROCERY_FC_PATH, SPATIAL_REF)\n",
    "    arcpy.MakeFeatureLayer_management(GROCERY_FC_PATH, GROCERY_FL)\n",
    "else:\n",
    "    print(\"successfully created new grocery feature layer \")\n",
    "    arcpy.DefineProjection_management(GROCERY_FC_PATH, SPATIAL_REF)\n",
    "    arcpy.MakeFeatureLayer_management(GROCERY_FC_PATH, GROCERY_FL)"
   ]
  },
  {
   "cell_type": "code",
   "execution_count": 39,
   "metadata": {},
   "outputs": [
    {
     "name": "stdout",
     "output_type": "stream",
     "text": [
      "Feature layer 'grocery_buffer_layer' created with a 0.5 mile radius around the points.\n"
     ]
    }
   ],
   "source": [
    "### Create a grocery store buffer feature class for the 0.5 mile radius circle ###\n",
    "GROCERY_BUFFER_FC = \"grocery_buffer_fc\"\n",
    "GROCERY_BUFFER_FC_PATH = os.path.join(GDB_PATH,GROCERY_BUFFER_FC)\n",
    "### Input buffer already have the points to process ###\n",
    "input_fc = GROCERY_FC_PATH\n",
    "GROCERY_BUFFER_LAYER = \"grocery_buffer_layer\"\n",
    "# Step 1: Create buffer around each point (0.5 mile radius)\n",
    "if arcpy.Exists(GROCERY_BUFFER_FC_PATH) or arcpy.Exists(GROCERY_BUFFER_LAYER):\n",
    "    print(\"grocer buffer already exists... deleting and creating a new one \")\n",
    "    arcpy.Delete_management(GROCERY_BUFFER_FC_PATH)\n",
    "    arcpy.Delete_management(GROCERY_BUFFER_LAYER)\n",
    "    arcpy.DefineProjection_management(GROCERY_FC_PATH, SPATIAL_REF)\n",
    "    arcpy.Buffer_analysis(input_fc, GROCERY_BUFFER_FC_PATH, BUFFER_DISTANCE)\n",
    "    # Step 2: Make the buffer result a feature layer\n",
    "    \n",
    "    arcpy.MakeFeatureLayer_management(GROCERY_BUFFER_FC_PATH, GROCERY_BUFFER_LAYER)\n",
    "\n",
    "else:\n",
    "    arcpy.DefineProjection_management(GROCERY_FC_PATH, SPATIAL_REF)\n",
    "    arcpy.Buffer_analysis(input_fc, GROCERY_BUFFER_FC_PATH, BUFFER_DISTANCE)\n",
    "    # Step 2: Make the buffer result a feature layer\n",
    "    arcpy.MakeFeatureLayer_management(GROCERY_BUFFER_FC_PATH, GROCERY_BUFFER_LAYER)\n",
    "    print(\"new grocery buffer created successfully\")\n",
    "\n",
    "\n",
    "\n",
    "# Output message to confirm the creation of the buffer layer\n",
    "print(f\"Feature layer '{GROCERY_BUFFER_LAYER}' created with a 0.5 mile radius around the points.\")"
   ]
  },
  {
   "cell_type": "markdown",
   "metadata": {},
   "source": [
    "### Alternative healthy food options: Food Bank and Farmer's Market Data Processing "
   ]
  },
  {
   "cell_type": "code",
   "execution_count": 41,
   "metadata": {},
   "outputs": [
    {
     "name": "stdout",
     "output_type": "stream",
     "text": [
      " ALT_HEALTHY_FOOD_FC_PATH created successfully\n"
     ]
    },
    {
     "data": {
      "text/html": [
       "<div class='gpresult'><h2>Messages</h2><div id='messages'>Start Time: Monday, December 16, 2024 11:01:29 PM<br>Succeeded at Monday, December 16, 2024 11:01:29 PM (Elapsed Time: 0.28 seconds)<br></div><div id = 'default' /></div></div>"
      ],
      "text/plain": [
       "<Result 'C:\\\\Users\\\\jbfre\\\\Documents\\\\ArcGIS\\\\Projects\\\\From_Desert_2_Oasis\\\\From_Desert_2_Oasis.gdb\\\\alt_healthy_food_fc'>"
      ]
     },
     "execution_count": 41,
     "metadata": {},
     "output_type": "execute_result"
    }
   ],
   "source": [
    "\"\"\"\n",
    "Alternative healthy food  Data --> Creating a feature layer that has all the coordinates of food banks and farmer's markets\n",
    "\"\"\"\n",
    "\n",
    "### Create the alt healthy food feature class ###\n",
    "ALT_HEALTHY_FOOD_FC = \"alt_healthy_food_fc\"\n",
    "ALT_HEALTHY_FOOD_FC_PATH = os.path.join(GDB_PATH,ALT_HEALTHY_FOOD_FC)\n",
    "\n",
    "\n",
    "\n",
    "\n",
    "### Verify that the alt healthy feature class was successfully created ###\n",
    "if arcpy.Exists(ALT_HEALTHY_FOOD_FC_PATH):\n",
    "    arcpy.Delete_management(ALT_HEALTHY_FOOD_FC_PATH)\n",
    "    print(\"alt healthy food feature class already exists... deleting and creating a new one \")\n",
    "    arcpy.CreateFeatureclass_management(GDB_PATH,ALT_HEALTHY_FOOD_FC,\"POINT\")\n",
    "    \n",
    "else:\n",
    "    arcpy.CreateFeatureclass_management(GDB_PATH,ALT_HEALTHY_FOOD_FC,\"POINT\")\n",
    "    if arcpy.Exists(ALT_HEALTHY_FOOD_FC_PATH):\n",
    "        print(\" ALT_HEALTHY_FOOD_FC_PATH created successfully\")\n",
    "    else:\n",
    "        print(\"ALT_HEALTHY_FOOD_FC_PATH DNE: Error\")\n",
    "\n",
    "### Make sure to define the coordinate system / spatial reference of any feature class that is created\n",
    "arcpy.DefineProjection_management(ALT_HEALTHY_FOOD_FC_PATH, SPATIAL_REF)\n"
   ]
  },
  {
   "cell_type": "code",
   "execution_count": 42,
   "metadata": {},
   "outputs": [
    {
     "name": "stdout",
     "output_type": "stream",
     "text": [
      "Fields in the feature ALT_HEALTHY_FOOD class:\n",
      "OBJECTID\n",
      "Shape\n",
      "The field 'Address' exists.\n",
      "The field 'X_Coord' exists.\n",
      "The field 'Y_Coord' exists.\n"
     ]
    }
   ],
   "source": [
    "### Check existing fields in  Class ###\n",
    "print(\"Fields in the feature ALT_HEALTHY_FOOD class:\")\n",
    "for field in arcpy.ListFields(ALT_HEALTHY_FOOD_FC_PATH):\n",
    "    print(field.name)\n",
    "\n",
    "### Add fields for storing coordinates for easier calculations later ###\n",
    "arcpy.AddField_management(ALT_HEALTHY_FOOD_FC_PATH, \"X_Coord\", \"DOUBLE\")\n",
    "arcpy.AddField_management(ALT_HEALTHY_FOOD_FC_PATH, \"Y_Coord\", \"DOUBLE\")\n",
    "arcpy.AddField_management(ALT_HEALTHY_FOOD_FC_PATH,\"Address\",\"TEXT\")\n",
    "\n",
    "required_fields:list[str] = [\"Address\", \"X_Coord\", \"Y_Coord\"]\n",
    "for required_field in required_fields:\n",
    "    if any(field.name == required_field for field in arcpy.ListFields(ALT_HEALTHY_FOOD_FC_PATH)):\n",
    "        print(f\"The field '{required_field}' exists.\")\n",
    "    else:\n",
    "        print(f\"The field '{required_field}' does not exist.\")\n"
   ]
  },
  {
   "cell_type": "code",
   "execution_count": 43,
   "metadata": {},
   "outputs": [],
   "source": [
    "### Process Alt healthy food options from their JSON files ###\n",
    "\n",
    "with open(FOOD_BANK_JSON_PATH) as file:\n",
    "    FOOD_BANK_JSON = json.load(file)\n",
    "with open(FARM_MARKER_JSON_PATH) as file:\n",
    "    FARM_MARKER_JSON = json.load(file)\n",
    "\n",
    "ALT_HEALTHY_FOOD_JSON = [FOOD_BANK_JSON,FARM_MARKER_JSON]\n",
    "\n",
    "### Loop through all json files in the list ###     \n",
    "for food_ops in ALT_HEALTHY_FOOD_JSON:\n",
    "    # Step 3: Insert points into the feature class from the JSON data\n",
    "    with arcpy.da.InsertCursor(ALT_HEALTHY_FOOD_FC_PATH, [\"SHAPE\", \"Address\", \"X_Coord\", \"Y_Coord\"]) as cursor:\n",
    "        for address, coords in food_ops.items():\n",
    "            # Create a point geometry object using the x and y coordinates\n",
    "            point = arcpy.Point(coords[1], coords[0])  # coords[1] is longitude (X), coords[0] is latitude (Y)\n",
    "            \n",
    "            # Prepare the row with geometry and attributes\n",
    "            row = [point, address, coords[1], coords[0]]  # X_Coord is longitude, Y_Coord is latitude\n",
    "            \n",
    "            # Insert the row into the feature class\n",
    "            cursor.insertRow(row)\n",
    "\n",
    "# Step 4: Create a feature layer from the feature class\n",
    "ALT_HEALTHY_FOOD_FL = \"alt_healthy_food_fl\"\n",
    "if arcpy.Exists(ALT_HEALTHY_FOOD_FL):\n",
    "    arcpy.Delete_management(ALT_HEALTHY_FOOD_FL)\n",
    "    arcpy.DefineProjection_management(ALT_HEALTHY_FOOD_FC_PATH, SPATIAL_REF)\n",
    "    arcpy.MakeFeatureLayer_management(ALT_HEALTHY_FOOD_FC_PATH, ALT_HEALTHY_FOOD_FL)\n",
    "else:\n",
    "    arcpy.DefineProjection_management(ALT_HEALTHY_FOOD_FC_PATH, SPATIAL_REF)\n",
    "    arcpy.MakeFeatureLayer_management(ALT_HEALTHY_FOOD_FC_PATH, ALT_HEALTHY_FOOD_FL)"
   ]
  },
  {
   "cell_type": "markdown",
   "metadata": {},
   "source": [
    "### Drugs 'N Liquor Data Processing"
   ]
  },
  {
   "cell_type": "code",
   "execution_count": 53,
   "metadata": {},
   "outputs": [
    {
     "name": "stdout",
     "output_type": "stream",
     "text": [
      "drugs and liquor feature class already exists... deleting and creating a new one \n"
     ]
    },
    {
     "data": {
      "text/html": [
       "<div class='gpresult'><h2>Messages</h2><div id='messages'>Start Time: Monday, December 16, 2024 11:29:08 PM<br>Succeeded at Monday, December 16, 2024 11:29:09 PM (Elapsed Time: 0.28 seconds)<br></div><div id = 'default' /></div></div>"
      ],
      "text/plain": [
       "<Result 'C:\\\\Users\\\\jbfre\\\\Documents\\\\ArcGIS\\\\Projects\\\\From_Desert_2_Oasis\\\\From_Desert_2_Oasis.gdb\\\\drugs_nliquor_fc'>"
      ]
     },
     "execution_count": 53,
     "metadata": {},
     "output_type": "execute_result"
    }
   ],
   "source": [
    "\"\"\"\n",
    "Cannabis and Liquor  Data --> Creating a feature layer that has all the coordinates of Cannabis shops and liquor\n",
    "\"\"\"\n",
    "\n",
    "### Create the cannabis & liquor feature class ###\n",
    "DRUGS_NLIQUOR_FC = \"drugs_nliquor_fc\"\n",
    "DRUGS_NLIQUOR_FC_PATH = os.path.join(GDB_PATH,DRUGS_NLIQUOR_FC)\n",
    "\n",
    "\n",
    "\n",
    "\n",
    "### Verify that the drugs n liquor class was successfully created ###\n",
    "if arcpy.Exists(DRUGS_NLIQUOR_FC_PATH):\n",
    "    arcpy.Delete_management(DRUGS_NLIQUOR_FC_PATH)\n",
    "    print(\"drugs and liquor feature class already exists... deleting and creating a new one \")\n",
    "    arcpy.CreateFeatureclass_management(GDB_PATH,DRUGS_NLIQUOR_FC,\"POINT\")\n",
    "    \n",
    "else:\n",
    "    arcpy.CreateFeatureclass_management(GDB_PATH,DRUGS_NLIQUOR_FC,\"POINT\")\n",
    "    if arcpy.Exists(DRUGS_NLIQUOR_FC_PATH):\n",
    "        print(\" DRUGS_NLIQUOR_FC_PATH created successfully\")\n",
    "    else:\n",
    "        print(\"DRUGS_NLIQUOR_FC_PATH DNE: Error\")\n",
    "\n",
    "### Make sure to define the coordinate system / spatial reference of any feature class that is created\n",
    "arcpy.DefineProjection_management(DRUGS_NLIQUOR_FC_PATH, SPATIAL_REF)"
   ]
  },
  {
   "cell_type": "code",
   "execution_count": 56,
   "metadata": {},
   "outputs": [
    {
     "name": "stdout",
     "output_type": "stream",
     "text": [
      "Fields in the feature drugs n liquor feature class:\n",
      "OBJECTID\n",
      "Shape\n",
      "X_Coord\n",
      "Y_Coord\n",
      "Address\n",
      "The field 'Address' exists.\n",
      "The field 'X_Coord' exists.\n",
      "The field 'Y_Coord' exists.\n"
     ]
    }
   ],
   "source": [
    "### Check existing fields in  drugs n liquor feature Class ###\n",
    "print(\"Fields in the feature drugs n liquor feature class:\")\n",
    "for field in arcpy.ListFields(DRUGS_NLIQUOR_FC_PATH):\n",
    "    print(field.name)\n",
    "\n",
    "### Add fields for storing coordinates for easier calculations later ###\n",
    "arcpy.AddField_management(DRUGS_NLIQUOR_FC_PATH, \"X_Coord\", \"DOUBLE\")\n",
    "arcpy.AddField_management(DRUGS_NLIQUOR_FC_PATH, \"Y_Coord\", \"DOUBLE\")\n",
    "arcpy.AddField_management(DRUGS_NLIQUOR_FC_PATH,\"Address\",\"TEXT\")\n",
    "\n",
    "required_fields:list[str] = [\"Address\", \"X_Coord\", \"Y_Coord\"]\n",
    "for required_field in required_fields:\n",
    "    if any(field.name == required_field for field in arcpy.ListFields(DRUGS_NLIQUOR_FC_PATH)):\n",
    "        print(f\"The field '{required_field}' exists.\")\n",
    "    else:\n",
    "        print(f\"The field '{required_field}' does not exist.\")"
   ]
  },
  {
   "cell_type": "code",
   "execution_count": 57,
   "metadata": {},
   "outputs": [
    {
     "name": "stdout",
     "output_type": "stream",
     "text": [
      "drugs and liquor feature layer exists... deleting and creating a new one \n"
     ]
    }
   ],
   "source": [
    "### Process drugs n liquor JSON file ###\n",
    "with open(DRUGS_NLIQUOR_JSON_PATH) as file:\n",
    "    DRUGS_NLIQUOR_JSON = json.load(file)\n",
    "\n",
    "# Step 3: Insert points into the feature class from the JSON data\n",
    "with arcpy.da.InsertCursor(DRUGS_NLIQUOR_FC_PATH, [\"SHAPE\", \"Address\", \"X_Coord\", \"Y_Coord\"]) as cursor:\n",
    "    for address, coords in DRUGS_NLIQUOR_JSON.items():\n",
    "        # Create a point geometry object using the x and y coordinates\n",
    "        point = arcpy.Point(coords[1], coords[0])  # coords[1] is longitude (X), coords[0] is latitude (Y)\n",
    "        \n",
    "        # Prepare the row with geometry and attributes\n",
    "        row = [point, address, coords[1], coords[0]]  # X_Coord is longitude, Y_Coord is latitude\n",
    "        \n",
    "        # Insert the row into the feature class\n",
    "        cursor.insertRow(row)\n",
    "\n",
    "# Step 4: Create a feature layer from the feature class\n",
    "DRUGS_NLIQUOR_FL = \"drugs_nliquor_fl\"\n",
    "if arcpy.Exists(DRUGS_NLIQUOR_FL):\n",
    "    print(\"drugs and liquor feature layer exists... deleting and creating a new one \")\n",
    "    arcpy.Delete_management(DRUGS_NLIQUOR_FL)\n",
    "    arcpy.DefineProjection_management(DRUGS_NLIQUOR_FC_PATH, SPATIAL_REF)\n",
    "    arcpy.MakeFeatureLayer_management(DRUGS_NLIQUOR_FC_PATH, DRUGS_NLIQUOR_FL)\n",
    "else:\n",
    "    print(\"successfully created drugs and liquor feature layer \")\n",
    "    arcpy.DefineProjection_management(DRUGS_NLIQUOR_FC_PATH, SPATIAL_REF)\n",
    "    arcpy.MakeFeatureLayer_management(DRUGS_NLIQUOR_FC_PATH, DRUGS_NLIQUOR_FL)"
   ]
  },
  {
   "cell_type": "code",
   "execution_count": 58,
   "metadata": {},
   "outputs": [
    {
     "name": "stdout",
     "output_type": "stream",
     "text": [
      "drugs n liquor buffer already exists... deleting and creating a new one \n",
      "Feature layer 'drugs_nliquor_layer' created with a 0.5 mile radius around the points.\n"
     ]
    }
   ],
   "source": [
    "### Create a drugs n liquor buffer feature class for the 0.5 mile radius circle ###\n",
    "DRUGS_NLIQUOR_BUFFER_FC = \"drugs_nliquor_buffer_fc\"\n",
    "DRUGS_NLIQUOR_BUFFER_FC_PATH = os.path.join(GDB_PATH,DRUGS_NLIQUOR_BUFFER_FC)\n",
    "### Input buffer already have the points to process ###\n",
    "input_fc = DRUGS_NLIQUOR_FC_PATH\n",
    "DRUGS_NLIQUOR_BUFFER_LAYER = \"drugs_nliquor_layer\"\n",
    "# Step 1: Create buffer around each point (0.5 mile radius)\n",
    "if arcpy.Exists(DRUGS_NLIQUOR_FC_PATH) or arcpy.Exists(DRUGS_NLIQUOR_BUFFER_LAYER):\n",
    "    print(\"drugs n liquor buffer already exists... deleting and creating a new one \")\n",
    "    arcpy.Delete_management(DRUGS_NLIQUOR_BUFFER_FC_PATH)\n",
    "    arcpy.Delete_management(DRUGS_NLIQUOR_BUFFER_LAYER)\n",
    "    arcpy.DefineProjection_management(DRUGS_NLIQUOR_FC_PATH, SPATIAL_REF)\n",
    "    arcpy.Buffer_analysis(input_fc, DRUGS_NLIQUOR_BUFFER_FC_PATH, BUFFER_DISTANCE)\n",
    "    # Step 2: Make the buffer result a feature layer\n",
    "    \n",
    "    arcpy.MakeFeatureLayer_management(DRUGS_NLIQUOR_BUFFER_FC_PATH, DRUGS_NLIQUOR_BUFFER_LAYER)\n",
    "\n",
    "else:\n",
    "    arcpy.DefineProjection_management(DRUGS_NLIQUOR_FC_PATH, SPATIAL_REF)\n",
    "    arcpy.Buffer_analysis(input_fc, DRUGS_NLIQUOR_BUFFER_FC_PATH, BUFFER_DISTANCE)\n",
    "    # Step 2: Make the buffer result a feature layer\n",
    "    arcpy.MakeFeatureLayer_management(DRUGS_NLIQUOR_BUFFER_FC_PATH, DRUGS_NLIQUOR_BUFFER_LAYER)\n",
    "    print(\"new drugs n liquor buffer created successfully\")\n",
    "\n",
    "\n",
    "\n",
    "# Output message to confirm the creation of the buffer layer\n",
    "print(f\"Feature layer '{DRUGS_NLIQUOR_BUFFER_LAYER}' created with a 0.5 mile radius around the points.\")"
   ]
  },
  {
   "cell_type": "markdown",
   "metadata": {},
   "source": [
    "### Convenience, Corner, and Mini-Mart Data Processing"
   ]
  },
  {
   "cell_type": "code",
   "execution_count": 59,
   "metadata": {},
   "outputs": [
    {
     "name": "stdout",
     "output_type": "stream",
     "text": [
      " UNHEALTHY_FOOD_FC_PATH created successfully\n"
     ]
    },
    {
     "data": {
      "text/html": [
       "<div class='gpresult'><h2>Messages</h2><div id='messages'>Start Time: Tuesday, December 17, 2024 12:47:54 AM<br>Succeeded at Tuesday, December 17, 2024 12:47:54 AM (Elapsed Time: 0.29 seconds)<br></div><div id = 'default' /></div></div>"
      ],
      "text/plain": [
       "<Result 'C:\\\\Users\\\\jbfre\\\\Documents\\\\ArcGIS\\\\Projects\\\\From_Desert_2_Oasis\\\\From_Desert_2_Oasis.gdb\\\\unhealthy_food_fc'>"
      ]
     },
     "execution_count": 59,
     "metadata": {},
     "output_type": "execute_result"
    }
   ],
   "source": [
    "\"\"\"\n",
    "Unhealthy Food Option Data --> Creating a feature layer that has all the coordinates of food convenience stores, \n",
    "corner stores, and mini-marts.\n",
    "\"\"\"\n",
    "\n",
    "### Create the unhealthy food feature class ###\n",
    "UNHEALTHY_FOOD_FC = \"unhealthy_food_fc\"\n",
    "UNHEALTHY_FOOD_FC_PATH = os.path.join(GDB_PATH,UNHEALTHY_FOOD_FC)\n",
    "\n",
    "\n",
    "\n",
    "\n",
    "### Verify that the unhealthy feature class was successfully created ###\n",
    "if arcpy.Exists(UNHEALTHY_FOOD_FC_PATH):\n",
    "    arcpy.Delete_management(UNHEALTHY_FOOD_FC_PATH)\n",
    "    print(\"unhealthy food feature class already exists... deleting and creating a new one \")\n",
    "    arcpy.CreateFeatureclass_management(GDB_PATH,UNHEALTHY_FOOD_FC,\"POINT\")\n",
    "    \n",
    "else:\n",
    "    arcpy.CreateFeatureclass_management(GDB_PATH,UNHEALTHY_FOOD_FC,\"POINT\")\n",
    "    if arcpy.Exists(UNHEALTHY_FOOD_FC_PATH):\n",
    "        print(\" UNHEALTHY_FOOD_FC_PATH created successfully\")\n",
    "    else:\n",
    "        print(\"UNHEALTHY_FOOD_FC_PATH DNE: Error\")\n",
    "\n",
    "### Make sure to define the coordinate system / spatial reference of any feature class that is created\n",
    "arcpy.DefineProjection_management(UNHEALTHY_FOOD_FC_PATH, SPATIAL_REF)"
   ]
  },
  {
   "cell_type": "code",
   "execution_count": 60,
   "metadata": {},
   "outputs": [
    {
     "name": "stdout",
     "output_type": "stream",
     "text": [
      "Fields in the feature UNHEALTHY_FOOD feature class:\n",
      "OBJECTID\n",
      "Shape\n",
      "The field 'Address' exists.\n",
      "The field 'X_Coord' exists.\n",
      "The field 'Y_Coord' exists.\n"
     ]
    }
   ],
   "source": [
    "### Check existing fields in  Class ###\n",
    "print(\"Fields in the feature UNHEALTHY_FOOD feature class:\")\n",
    "for field in arcpy.ListFields(UNHEALTHY_FOOD_FC_PATH):\n",
    "    print(field.name)\n",
    "\n",
    "### Add fields for storing coordinates for easier calculations later ###\n",
    "arcpy.AddField_management(UNHEALTHY_FOOD_FC_PATH, \"X_Coord\", \"DOUBLE\")\n",
    "arcpy.AddField_management(UNHEALTHY_FOOD_FC_PATH, \"Y_Coord\", \"DOUBLE\")\n",
    "arcpy.AddField_management(UNHEALTHY_FOOD_FC_PATH,\"Address\",\"TEXT\")\n",
    "\n",
    "required_fields:list[str] = [\"Address\", \"X_Coord\", \"Y_Coord\"]\n",
    "for required_field in required_fields:\n",
    "    if any(field.name == required_field for field in arcpy.ListFields(UNHEALTHY_FOOD_FC_PATH)):\n",
    "        print(f\"The field '{required_field}' exists.\")\n",
    "    else:\n",
    "        print(f\"The field '{required_field}' does not exist.\")"
   ]
  },
  {
   "cell_type": "code",
   "execution_count": 61,
   "metadata": {},
   "outputs": [],
   "source": [
    "### Process Alt healthy food options from their JSON files ###\n",
    "\n",
    "with open(CONVENIENCE_JSON_PATH) as file:\n",
    "    CONVENIENCE_JSON = json.load(file)\n",
    "with open(CORNERSTORE_JSON_PATH) as file:\n",
    "    CORNERSTORE_JSON = json.load(file)\n",
    "with open(MINI_MART_JSON_PATH) as file:\n",
    "    MINI_MART_JSON = json.load(file)\n",
    "with open(FAST_FOOD_JSON_PATH) as file:\n",
    "    FAST_FOOD_JSON = json.load(file)\n",
    "\n",
    "UNHEALTHY_FOOD_JSON = [CONVENIENCE_JSON,CORNERSTORE_JSON,MINI_MART_JSON,FAST_FOOD_JSON]\n",
    "\n",
    "### Loop through all json files in the list ###     \n",
    "for food_ops in UNHEALTHY_FOOD_JSON:\n",
    "    # Step 3: Insert points into the feature class from the JSON data\n",
    "    with arcpy.da.InsertCursor(UNHEALTHY_FOOD_FC_PATH, [\"SHAPE\", \"Address\", \"X_Coord\", \"Y_Coord\"]) as cursor:\n",
    "        for address, coords in food_ops.items():\n",
    "            # Create a point geometry object using the x and y coordinates\n",
    "            point = arcpy.Point(coords[1], coords[0])  # coords[1] is longitude (X), coords[0] is latitude (Y)\n",
    "            \n",
    "            # Prepare the row with geometry and attributes\n",
    "            row = [point, address, coords[1], coords[0]]  # X_Coord is longitude, Y_Coord is latitude\n",
    "            \n",
    "            # Insert the row into the feature class\n",
    "            cursor.insertRow(row)\n",
    "\n",
    "# Step 4: Create a feature layer from the feature class\n",
    "UNHEALTHY_FOOD_FL = \"unhealthy_food_fl\"\n",
    "if arcpy.Exists(UNHEALTHY_FOOD_FL):\n",
    "    arcpy.Delete_management(UNHEALTHY_FOOD_FL)\n",
    "    arcpy.DefineProjection_management(UNHEALTHY_FOOD_FC_PATH, SPATIAL_REF)\n",
    "    arcpy.MakeFeatureLayer_management(UNHEALTHY_FOOD_FC_PATH, UNHEALTHY_FOOD_FL)\n",
    "else:\n",
    "    arcpy.DefineProjection_management(UNHEALTHY_FOOD_FC_PATH, SPATIAL_REF)\n",
    "    arcpy.MakeFeatureLayer_management(UNHEALTHY_FOOD_FC_PATH, UNHEALTHY_FOOD_FL)"
   ]
  }
 ],
 "metadata": {
  "kernelspec": {
   "display_name": "arcgispro-py3",
   "language": "python",
   "name": "python3"
  },
  "language_info": {
   "codemirror_mode": {
    "name": "ipython",
    "version": 3
   },
   "file_extension": ".py",
   "mimetype": "text/x-python",
   "name": "python",
   "nbconvert_exporter": "python",
   "pygments_lexer": "ipython3",
   "version": "3.11.8"
  }
 },
 "nbformat": 4,
 "nbformat_minor": 2
}
