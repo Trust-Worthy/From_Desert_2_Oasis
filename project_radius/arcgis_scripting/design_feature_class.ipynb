{
 "cells": [
  {
   "cell_type": "code",
   "execution_count": 1,
   "metadata": {},
   "outputs": [],
   "source": [
    "import arcpy\n",
    "import os\n",
    "from dotenv import load_dotenv\n",
    "from pathlib import Path\n",
    "\n",
    "load_dotenv()\n",
    "gdb_path = os.getenv('GDB_PATH')\n",
    "# Convert the file path to a raw string\n",
    "gdb_path = r\"{}\".format(gdb_path)\n",
    "feature_class_path = os.path.join(gdb_path,\"feature_class1\")\n",
    "feature_class_path = r\"{}\".format(feature_class_path)"
   ]
  },
  {
   "cell_type": "code",
   "execution_count": 2,
   "metadata": {},
   "outputs": [
    {
     "name": "stdout",
     "output_type": "stream",
     "text": [
      "Geodatabase exists: C:\\Users\\jbfre\\Documents\\ArcGIS\\Projects\\From_Desert2_Oasis\\From_Desert2_Oasis.gdb\n",
      "Feature Class exists: C:\\Users\\jbfre\\Documents\\ArcGIS\\Projects\\From_Desert2_Oasis\\From_Desert2_Oasis.gdb\\feature_class1\n"
     ]
    }
   ],
   "source": [
    "### Check that both the geodatabase and feature class exist\n",
    "if arcpy.Exists(gdb_path): \n",
    "    print(f\"Geodatabase exists: {gdb_path}\")\n",
    "if arcpy.Exists(feature_class_path):\n",
    "    print(f\"Feature Class exists: {feature_class_path}\" )"
   ]
  },
  {
   "cell_type": "code",
   "execution_count": 2,
   "metadata": {},
   "outputs": [
    {
     "name": "stdout",
     "output_type": "stream",
     "text": [
      "grocery.json exists\n",
      "convenience.json exists\n",
      "cornerstore.json exists\n",
      "drugs_nliquor.json exists\n",
      "farm_market.json exists\n",
      "fast_food.json exists\n",
      "food_bank.json exists\n",
      "mini_mart.json exists\n"
     ]
    }
   ],
   "source": [
    "\n",
    "### Get all the paths to the json coordinate data\n",
    "grocery_data_path = Path(r\"..\\data_collection\\grocery.json\")\n",
    "convenience_data_path = Path(r\"..\\data_collection\\convenience.json\")\n",
    "cornerstore_data_path = Path(r\"..\\data_collection\\cornerstore.json\")\n",
    "drugs_nliquor_data_path = Path(r\"..\\data_collection\\drugs_nliquor.json\")\n",
    "farm_market_data_path = Path(r\"..\\data_collection\\farm_market.json\")\n",
    "fast_food_data_path = Path(r\"..\\data_collection\\fast_food.json\")\n",
    "food_bank_data_path = Path(r\"..\\data_collection\\food_bank.json\")\n",
    "mini_mart_data_path = Path(r\"..\\data_collection\\mini_mart.json\")\n",
    "\n",
    "grocery_data_path_2 =  Path(r\"..\\data_collection\\grocery_edited.json\")\n",
    "\n",
    "DATA_PATH_LIST = [grocery_data_path,convenience_data_path,\n",
    "                  cornerstore_data_path,\n",
    "                  drugs_nliquor_data_path,\n",
    "                  farm_market_data_path,\n",
    "                  fast_food_data_path,\n",
    "                  food_bank_data_path,\n",
    "                  mini_mart_data_path\n",
    "                  ]\n",
    "\n",
    "for path in DATA_PATH_LIST:\n",
    "    if path.exists():\n",
    "        print(f\"{path.name} exists\")\n",
    "    else:\n",
    "        print(f\"{path.name} doesn't exist\")\n"
   ]
  },
  {
   "cell_type": "code",
   "execution_count": 3,
   "metadata": {},
   "outputs": [],
   "source": [
    "### Load in json data and plot on feature layer\n",
    "import json\n",
    "import arcpy\n",
    "from arcpy.da import InsertCursor\n",
    "from shapely.geometry import Point\n",
    "\n",
    "spatial_ref = arcpy.SpatialReference(4326) # WGS 84 (latitude/longitude)\n",
    "SOURCE_FEATURE_CLASS = feature_class_path\n",
    "SOURCE_GDB = gdb_path"
   ]
  },
  {
   "cell_type": "code",
   "execution_count": 5,
   "metadata": {},
   "outputs": [
    {
     "name": "stdout",
     "output_type": "stream",
     "text": [
      "OBJECTID\n",
      "Shape\n",
      "Color\n"
     ]
    }
   ],
   "source": [
    "for field in arcpy.ListFields(feature_class_path):\n",
    "    print(field.name)"
   ]
  },
  {
   "cell_type": "code",
   "execution_count": 22,
   "metadata": {},
   "outputs": [
    {
     "data": {
      "text/html": [
       "<div class='gpresult'><h2>Messages</h2><div id='messages'>Start Time: Sunday, December 15, 2024 6:14:29 PM<br>Succeeded at Sunday, December 15, 2024 6:14:30 PM (Elapsed Time: 0.64 seconds)<br></div><div id = 'default' /></div></div>"
      ],
      "text/plain": [
       "<Result 'C:\\\\Users\\\\jbfre\\\\Documents\\\\ArcGIS\\\\Projects\\\\From_Desert2_Oasis\\\\From_Desert2_Oasis.gdb\\\\feature_class_2_grocery_v2'>"
      ]
     },
     "execution_count": 22,
     "metadata": {},
     "output_type": "execute_result"
    }
   ],
   "source": [
    "# Define the output workspace (e.g., a geodatabase or folder)\n",
    "output_workspace = SOURCE_GDB\n",
    "\n",
    "# Define the name of the new feature class\n",
    "feature_class_name = \"feature_class_2_grocery_v2\"\n",
    "\n",
    "# Define the geometry type (Point, Polyline, Polygon, etc.)\n",
    "geometry_type = \"POINT\"\n",
    "\n",
    "# Define the spatial reference (e.g., WGS 1984)\n",
    "spatial_reference = arcpy.SpatialReference(4326)  # WGS 1984\n",
    "\n",
    "# Create the feature class\n",
    "arcpy.CreateFeatureclass_management(\n",
    "    output_workspace,\n",
    "    feature_class_name,\n",
    "    geometry_type,\n",
    "    spatial_reference=spatial_reference\n",
    ")"
   ]
  },
  {
   "cell_type": "code",
   "execution_count": 4,
   "metadata": {},
   "outputs": [],
   "source": [
    "feature_class_path_2 = os.path.join(gdb_path,\"feature_class_2_grocery_v2\")\n",
    "feature_class_path_2 = r\"{}\".format(feature_class_path_2)"
   ]
  },
  {
   "cell_type": "code",
   "execution_count": 24,
   "metadata": {},
   "outputs": [],
   "source": [
    "with open(grocery_data_path_2,'r') as file:\n",
    "    grocery_json = json.load(file)\n",
    "\n",
    "grocery_fields = ['Shape','Color']\n",
    "\n",
    "# Add the 'Color' field to the feature class if it doesn't already exist\n",
    "if 'Color' not in [f.name for f in arcpy.ListFields(feature_class_path_2)]:\n",
    "    arcpy.AddField_management(feature_class_path_2, 'Color', 'TEXT', field_length=50)\n",
    "\n",
    "# Create an insert cursor to add data to the feature class\n",
    "with arcpy.da.InsertCursor(feature_class_path_2,grocery_fields) as cursor:\n",
    "    for address, coordinates in grocery_json.items():\n",
    "        lat = coordinates[0]\n",
    "        lon = coordinates[1]\n",
    "\n",
    "        # Create a point geometry (WGS84)\n",
    "        point = arcpy.Point(lon, lat)\n",
    "        point_geometry = arcpy.PointGeometry(point, spatial_ref)\n",
    "\n",
    "        # Insert the point into the feature class\n",
    "        cursor.insertRow([point_geometry,'green'])"
   ]
  },
  {
   "cell_type": "markdown",
   "metadata": {},
   "source": [
    "##### Creating Feature Layers for all of the different food options"
   ]
  },
  {
   "cell_type": "code",
   "execution_count": 5,
   "metadata": {},
   "outputs": [
    {
     "name": "stdout",
     "output_type": "stream",
     "text": [
      "Feature layer created.\n"
     ]
    }
   ],
   "source": [
    "### Grocery Store Code\n",
    "\n",
    "# Define paths\n",
    "\n",
    "with open(grocery_data_path_2,'r') as file:\n",
    "    grocery_json = json.load(file)\n",
    "\n",
    "grocery_buffer_layer = os.path.join(SOURCE_GDB,\"grocery_buffer_layer_2v1\")\n",
    "\n",
    "# Create a feature layer from the existing feature class\n",
    "arcpy.MakeFeatureLayer_management(feature_class_path_2, \"grocery_lyr_2v1\")\n",
    "print(\"Feature layer created.\")"
   ]
  },
  {
   "cell_type": "code",
   "execution_count": 6,
   "metadata": {},
   "outputs": [],
   "source": [
    "# Insert points into the feature class\n",
    "grocery_fields = ['Shape', 'Color']  # Fields for shape and address\n",
    "with arcpy.da.InsertCursor(feature_class_path_2, grocery_fields) as cursor:\n",
    "    for address, coordinates in grocery_json.items():\n",
    "        lat, lon = coordinates  # Latitude and Longitude\n",
    "        point = arcpy.Point(lon, lat)  # Create point\n",
    "        point_geometry = arcpy.PointGeometry(point, spatial_ref)  # Convert to point geometry\n",
    "        cursor.insertRow([point_geometry,'green'])  # Insert the row"
   ]
  },
  {
   "cell_type": "code",
   "execution_count": 7,
   "metadata": {},
   "outputs": [
    {
     "name": "stdout",
     "output_type": "stream",
     "text": [
      "Buffers created around points.\n"
     ]
    }
   ],
   "source": [
    "# Create 2-mile buffers around the points\n",
    "arcpy.analysis.Buffer(feature_class_path_2, grocery_buffer_layer, \"0.5 miles\")\n",
    "\n",
    "print(\"Buffers created around points.\")\n"
   ]
  },
  {
   "cell_type": "code",
   "execution_count": 8,
   "metadata": {},
   "outputs": [
    {
     "name": "stdout",
     "output_type": "stream",
     "text": [
      "Buffer layer created.\n"
     ]
    }
   ],
   "source": [
    "# Create a feature layer for the buffer\n",
    "arcpy.MakeFeatureLayer_management(grocery_buffer_layer, \"grocery_buffer_lyr_2v1\")\n",
    "print(\"Buffer layer created.\")\n"
   ]
  },
  {
   "cell_type": "code",
   "execution_count": null,
   "metadata": {},
   "outputs": [],
   "source": [
    "\n",
    "# # Optional: If you want to view both the points and buffers together\n",
    "# arcpy.management.AddLayer(\"points_lyr\", \"TOP\")  # Adds points to the map\n",
    "# arcpy.management.AddLayer(\"buffer_lyr\", \"TOP\")  # Adds buffer to the map\n",
    "# print(\"Both points and buffers added to the map.\")"
   ]
  }
 ],
 "metadata": {
  "kernelspec": {
   "display_name": "arcgispro-py3",
   "language": "python",
   "name": "python3"
  },
  "language_info": {
   "codemirror_mode": {
    "name": "ipython",
    "version": 3
   },
   "file_extension": ".py",
   "mimetype": "text/x-python",
   "name": "python",
   "nbconvert_exporter": "python",
   "pygments_lexer": "ipython3",
   "version": "3.11.8"
  }
 },
 "nbformat": 4,
 "nbformat_minor": 2
}
