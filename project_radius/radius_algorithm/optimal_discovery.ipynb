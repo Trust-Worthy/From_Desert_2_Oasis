{
 "cells": [
  {
   "cell_type": "code",
   "execution_count": 8,
   "metadata": {},
   "outputs": [],
   "source": [
    "import arcpy\n",
    "import os\n",
    "from dotenv import load_dotenv\n",
    "from pathlib import Path\n",
    "\n",
    "load_dotenv()\n",
    "gdb_path = os.getenv('GDB_PATH')\n",
    "# Convert the file path to a raw string\n",
    "gdb_path = r\"{}\".format(gdb_path)\n",
    "feature_class_path = os.path.join(gdb_path,\"bad_food\")\n",
    "feature_class_path = r\"{}\".format(feature_class_path)\n",
    "\n",
    "\n",
    "grocery_path = os.path.join(gdb_path,\"feature_class_2_grocery_v2\")\n",
    "grocery_path = r\"{}\".format(grocery_path)"
   ]
  },
  {
   "cell_type": "code",
   "execution_count": 9,
   "metadata": {},
   "outputs": [
    {
     "name": "stdout",
     "output_type": "stream",
     "text": [
      "Geodatabase exists: C:\\Users\\jbfre\\Documents\\ArcGIS\\Projects\\From_Desert2_Oasis\\From_Desert2_Oasis.gdb\n",
      "Feature Class exists: C:\\Users\\jbfre\\Documents\\ArcGIS\\Projects\\From_Desert2_Oasis\\From_Desert2_Oasis.gdb\\bad_food\n",
      "Feature Class exists: C:\\Users\\jbfre\\Documents\\ArcGIS\\Projects\\From_Desert2_Oasis\\From_Desert2_Oasis.gdb\\feature_class_2_grocery_v2\n"
     ]
    }
   ],
   "source": [
    "### Check that both the geodatabase and feature class exist\n",
    "if arcpy.Exists(gdb_path): \n",
    "    print(f\"Geodatabase exists: {gdb_path}\")\n",
    "if arcpy.Exists(feature_class_path):\n",
    "    print(f\"Feature Class exists: {feature_class_path}\" )\n",
    "if arcpy.Exists(grocery_path):\n",
    "    print(f\"Feature Class exists: {grocery_path}\" )"
   ]
  },
  {
   "cell_type": "code",
   "execution_count": null,
   "metadata": {},
   "outputs": [],
   "source": [
    "\n",
    "\n",
    "# Define input and output feature classes\n",
    "unhealthy_stores = feature_class_path\n",
    "all_grocery_stores = r\"C:\\path\\to\\AllGroceryStores.shp\"\n",
    "buffer_output = r\"C:\\path\\to\\UnhealthyStores_Buffer.shp\"\n",
    "spatial_join_output = r\"C:\\path\\to\\NearbyStoresJoin.shp\"\n",
    "\n",
    "# Step 1: Create a 2-mile buffer around the unhealthy stores\n",
    "arcpy.analysis.Buffer(\n",
    "    in_features=unhealthy_stores,\n",
    "    out_feature_class=buffer_output,\n",
    "    buffer_distance_or_field=\"2 Miles\"\n",
    ")\n",
    "\n",
    "# Step 2: Perform a spatial join to find grocery stores within the buffer\n",
    "arcpy.analysis.SpatialJoin(\n",
    "    target_features=buffer_output,\n",
    "    join_features=all_grocery_stores,\n",
    "    out_feature_class=spatial_join_output,\n",
    "    join_type=\"KEEP_COMMON\"\n",
    ")\n"
   ]
  }
 ],
 "metadata": {
  "kernelspec": {
   "display_name": "arcgispro-py3",
   "language": "python",
   "name": "python3"
  },
  "language_info": {
   "codemirror_mode": {
    "name": "ipython",
    "version": 3
   },
   "file_extension": ".py",
   "mimetype": "text/x-python",
   "name": "python",
   "nbconvert_exporter": "python",
   "pygments_lexer": "ipython3",
   "version": "3.11.8"
  }
 },
 "nbformat": 4,
 "nbformat_minor": 2
}
