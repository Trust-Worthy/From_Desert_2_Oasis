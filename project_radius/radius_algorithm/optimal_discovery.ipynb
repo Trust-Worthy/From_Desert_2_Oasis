{
 "cells": [
  {
   "cell_type": "code",
   "execution_count": 1,
   "metadata": {},
   "outputs": [],
   "source": [
    "import arcpy\n",
    "import os\n",
    "from dotenv import load_dotenv\n",
    "from pathlib import Path\n",
    "\n",
    "load_dotenv()\n",
    "gdb_path = os.getenv('GDB_PATH')\n",
    "# Convert the file path to a raw string\n",
    "gdb_path = r\"{}\".format(gdb_path)\n",
    "feature_class_path = os.path.join(gdb_path,\"bad_food\")\n",
    "feature_class_path = r\"{}\".format(feature_class_path)\n",
    "\n",
    "\n",
    "grocery_path = os.path.join(gdb_path,\"feature_class_2_grocery_v2\")\n",
    "grocery_path = r\"{}\".format(grocery_path)"
   ]
  },
  {
   "cell_type": "code",
   "execution_count": 2,
   "metadata": {},
   "outputs": [
    {
     "name": "stdout",
     "output_type": "stream",
     "text": [
      "Geodatabase exists: C:\\Users\\jbfre\\Documents\\ArcGIS\\Projects\\From_Desert2_Oasis\\From_Desert2_Oasis.gdb\n",
      "Feature Class exists: C:\\Users\\jbfre\\Documents\\ArcGIS\\Projects\\From_Desert2_Oasis\\From_Desert2_Oasis.gdb\\bad_food\n",
      "Feature Class exists: C:\\Users\\jbfre\\Documents\\ArcGIS\\Projects\\From_Desert2_Oasis\\From_Desert2_Oasis.gdb\\feature_class_2_grocery_v2\n"
     ]
    }
   ],
   "source": [
    "### Check that both the geodatabase and feature class exist\n",
    "if arcpy.Exists(gdb_path): \n",
    "    print(f\"Geodatabase exists: {gdb_path}\")\n",
    "if arcpy.Exists(feature_class_path):\n",
    "    print(f\"Feature Class exists: {feature_class_path}\" )\n",
    "if arcpy.Exists(grocery_path):\n",
    "    print(f\"Feature Class exists: {grocery_path}\" )"
   ]
  },
  {
   "cell_type": "code",
   "execution_count": 3,
   "metadata": {},
   "outputs": [
    {
     "data": {
      "text/html": [
       "<div class='gpresult'><h2>Messages</h2><div id='messages'>Start Time: Monday, December 16, 2024 10:46:36 AM<br>Succeeded at Monday, December 16, 2024 10:46:37 AM (Elapsed Time: 1.00 seconds)<br></div><div id = 'default' /></div></div>"
      ],
      "text/plain": [
       "<Result 'C:\\\\Users\\\\jbfre\\\\Documents\\\\ArcGIS\\\\Projects\\\\From_Desert2_Oasis\\\\From_Desert2_Oasis.gdb\\\\join_output'>"
      ]
     },
     "execution_count": 3,
     "metadata": {},
     "output_type": "execute_result"
    }
   ],
   "source": [
    "\n",
    "\n",
    "# Define input and output feature classes\n",
    "unhealthy_stores = feature_class_path\n",
    "all_grocery_stores = grocery_path   \n",
    "buffer_output = os.path.join(gdb_path,\"optimal_discov\")\n",
    "spatial_join_output = os.path.join(gdb_path,\"join_output\")\n",
    "\n",
    "# Step 1: Create a 2-mile buffer around the unhealthy stores\n",
    "arcpy.analysis.Buffer(\n",
    "    in_features=unhealthy_stores,\n",
    "    out_feature_class=buffer_output,\n",
    "    buffer_distance_or_field=\"0.5 Miles\"\n",
    ")\n",
    "\n",
    "# Step 2: Perform a spatial join to find grocery stores within the buffer\n",
    "arcpy.analysis.SpatialJoin(\n",
    "    target_features=buffer_output,\n",
    "    join_features=all_grocery_stores,\n",
    "    out_feature_class=spatial_join_output,\n",
    "    join_type=\"KEEP_ALL\"\n",
    ")\n"
   ]
  },
  {
   "cell_type": "code",
   "execution_count": 4,
   "metadata": {},
   "outputs": [
    {
     "data": {
      "text/html": [
       "<div class='gpresult'><h2>Messages</h2><div id='messages'>Start Time: Monday, December 16, 2024 10:46:41 AM<br>Succeeded at Monday, December 16, 2024 10:46:42 AM (Elapsed Time: 0.96 seconds)<br></div><div id = 'default' /></div></div>"
      ],
      "text/plain": [
       "<Result 'C:\\\\Users\\\\jbfre\\\\Documents\\\\ArcGIS\\\\Projects\\\\From_Desert2_Oasis\\\\From_Desert2_Oasis.gdb\\\\no_nearby_stores'>"
      ]
     },
     "execution_count": 4,
     "metadata": {},
     "output_type": "execute_result"
    }
   ],
   "source": [
    "# Select buffers with no intersecting grocery stores\n",
    "no_nearby_stores = os.path.join(gdb_path,\"no_nearby_stores\")\n",
    "\n",
    "arcpy.management.SelectLayerByAttribute(\n",
    "    in_layer_or_view=spatial_join_output,\n",
    "    where_clause=\"Join_Count = 0\"\n",
    ")\n",
    "arcpy.management.CopyFeatures(\n",
    "    in_features=spatial_join_output, \n",
    "    out_feature_class=no_nearby_stores\n",
    ")\n"
   ]
  },
  {
   "cell_type": "code",
   "execution_count": 7,
   "metadata": {},
   "outputs": [
    {
     "data": {
      "text/html": [
       "<div class='gpresult'><h2>Messages</h2><div id='messages'>Start Time: Monday, December 16, 2024 11:03:48 AM<br>Succeeded at Monday, December 16, 2024 11:03:49 AM (Elapsed Time: 0.90 seconds)<br></div><div id = 'default' /></div></div>"
      ],
      "text/plain": [
       "<Result 'C:\\\\Users\\\\jbfre\\\\Documents\\\\ArcGIS\\\\Projects\\\\From_Desert2_Oasis\\\\From_Desert2_Oasis.gdb\\\\no_nearby_stores_v2'>"
      ]
     },
     "execution_count": 7,
     "metadata": {},
     "output_type": "execute_result"
    }
   ],
   "source": [
    "\n",
    "\n",
    "# Create a layer for unhealthy stores\n",
    "arcpy.management.MakeFeatureLayer(feature_class_path, \"UnhealthyStores_Layer_v2\")\n",
    "\n",
    "# Select unhealthy stores that are within 0.5 miles of any grocery store\n",
    "arcpy.management.SelectLayerByLocation(\n",
    "    in_layer=\"UnhealthyStores_Layer_v2\",\n",
    "    overlap_type=\"WITHIN_A_DISTANCE\",\n",
    "    select_features=all_grocery_stores,\n",
    "    search_distance=\"0.5 Miles\",\n",
    "    selection_type=\"NEW_SELECTION\"  # Select features with nearby grocery stores\n",
    ")\n",
    "\n",
    "# Step 2: Invert the selection\n",
    "# Select all features first\n",
    "arcpy.management.SelectLayerByAttribute(\n",
    "    in_layer_or_view=\"UnhealthyStores_Layer_v2\",\n",
    "    selection_type=\"NEW_SELECTION\"\n",
    ")\n",
    "\n",
    "# Remove the previously selected features\n",
    "arcpy.management.SelectLayerByLocation(\n",
    "    in_layer=\"UnhealthyStores_Layer_v2\",\n",
    "    overlap_type=\"WITHIN_A_DISTANCE\",\n",
    "    select_features=all_grocery_stores,\n",
    "    search_distance=\"0.5 Miles\",\n",
    "    selection_type=\"REMOVE_FROM_SELECTION\"\n",
    ")\n",
    "\n",
    "# Save the result to a new feature class\n",
    "no_nearby_stores_v2 = os.path.join(gdb_path,\"no_nearby_stores_v2\")\n",
    "arcpy.management.CopyFeatures(\"UnhealthyStores_Layer_v2\", no_nearby_stores_v2)\n"
   ]
  },
  {
   "cell_type": "code",
   "execution_count": 16,
   "metadata": {},
   "outputs": [
    {
     "data": {
      "text/html": [
       "<div class='gpresult'><h2>Messages</h2><div id='messages'>Start Time: Monday, December 16, 2024 11:28:53 AM<br>WARNING 000117: Warning empty output generated.<br>Succeeded at Monday, December 16, 2024 11:28:54 AM (Elapsed Time: 0.61 seconds)<br></div><div id = 'default' /></div></div>"
      ],
      "text/plain": [
       "<Result 'C:\\\\Users\\\\jbfre\\\\Documents\\\\ArcGIS\\\\Projects\\\\From_Desert2_Oasis\\\\From_Desert2_Oasis.gdb\\\\RandomGroceryStores'>"
      ]
     },
     "execution_count": 16,
     "metadata": {},
     "output_type": "execute_result"
    }
   ],
   "source": [
    "feature_class_name = \"random_grocery_store\"\n",
    "\n",
    "# Define the geometry type (Point, Polyline, Polygon, etc.)\n",
    "geometry_type = \"POINT\"\n",
    "\n",
    "# Define the spatial reference (e.g., WGS 1984)\n",
    "spatial_reference = arcpy.SpatialReference(4326)  # WGS 1984\n",
    "\n",
    "output_workspace = gdb_path\n",
    "# Create the feature class\n",
    "arcpy.CreateFeatureclass_management(\n",
    "    output_workspace,\n",
    "    feature_class_name,\n",
    "    geometry_type,\n",
    "    spatial_reference=spatial_reference\n",
    ")\n",
    "\n",
    "\n",
    "\n",
    "# Define output for random points\n",
    "random_grocery_stores = os.path.join(gdb_path,\"random_grocery_store\")\n",
    "\n",
    "# Create random points (1 point per buffer)\n",
    "arcpy.management.CreateRandomPoints(\n",
    "    out_path=gdb_path,\n",
    "    out_name=\"RandomGroceryStores\",\n",
    "    constraining_feature_class=random_grocery_stores,\n",
    "\n",
    ")\n",
    "\n"
   ]
  },
  {
   "cell_type": "code",
   "execution_count": 30,
   "metadata": {},
   "outputs": [
    {
     "ename": "ExecuteError",
     "evalue": "Failed to execute. Parameters are not valid.\nERROR 000354: The name contains invalid characters\nFailed to execute (CreateFeatureclass).\n",
     "output_type": "error",
     "traceback": [
      "\u001b[1;31m---------------------------------------------------------------------------\u001b[0m",
      "\u001b[1;31mExecuteError\u001b[0m                              Traceback (most recent call last)",
      "\u001b[1;32m~\\AppData\\Local\\Temp\\ipykernel_4752\\1660600112.py\u001b[0m in \u001b[0;36m<cell line: 0>\u001b[1;34m()\u001b[0m\n\u001b[0;32m     12\u001b[0m \u001b[0mbuffer_distance\u001b[0m \u001b[1;33m=\u001b[0m \u001b[1;36m0.5\u001b[0m  \u001b[1;31m# Set buffer distance to 0.5 miles\u001b[0m\u001b[1;33m\u001b[0m\u001b[1;33m\u001b[0m\u001b[0m\n\u001b[0;32m     13\u001b[0m \u001b[1;33m\u001b[0m\u001b[0m\n\u001b[1;32m---> 14\u001b[1;33m \u001b[0marcpy\u001b[0m\u001b[1;33m.\u001b[0m\u001b[0mmanagement\u001b[0m\u001b[1;33m.\u001b[0m\u001b[0mCreateFeatureclass\u001b[0m\u001b[1;33m(\u001b[0m\u001b[0mgdb_path\u001b[0m\u001b[1;33m,\u001b[0m\u001b[0moutput_fc_points\u001b[0m\u001b[1;33m,\u001b[0m\u001b[0mgeometry_type\u001b[0m\u001b[1;33m=\u001b[0m\u001b[1;34m\"POINT\"\u001b[0m\u001b[1;33m)\u001b[0m\u001b[1;33m\u001b[0m\u001b[1;33m\u001b[0m\u001b[0m\n\u001b[0m\u001b[0;32m     15\u001b[0m \u001b[0marcpy\u001b[0m\u001b[1;33m.\u001b[0m\u001b[0mmanagement\u001b[0m\u001b[1;33m.\u001b[0m\u001b[0mCreateFeatureclass\u001b[0m\u001b[1;33m(\u001b[0m\u001b[0mgdb_path\u001b[0m\u001b[1;33m,\u001b[0m\u001b[0moutput_fc_buffers\u001b[0m\u001b[1;33m,\u001b[0m\u001b[0mgeometry_type\u001b[0m\u001b[1;33m=\u001b[0m\u001b[1;34m\"POLYGON\"\u001b[0m\u001b[1;33m)\u001b[0m\u001b[1;33m\u001b[0m\u001b[1;33m\u001b[0m\u001b[0m\n",
      "\u001b[1;32mc:\\Program Files\\ArcGIS\\Pro\\Resources\\ArcPy\\arcpy\\management.py\u001b[0m in \u001b[0;36mCreateFeatureclass\u001b[1;34m(out_path, out_name, geometry_type, template, has_m, has_z, spatial_reference, config_keyword, spatial_grid_1, spatial_grid_2, spatial_grid_3, out_alias, oid_type)\u001b[0m\n\u001b[0;32m   3625\u001b[0m         \u001b[1;32mreturn\u001b[0m \u001b[0mretval\u001b[0m\u001b[1;33m\u001b[0m\u001b[1;33m\u001b[0m\u001b[0m\n\u001b[0;32m   3626\u001b[0m     \u001b[1;32mexcept\u001b[0m \u001b[0mException\u001b[0m \u001b[1;32mas\u001b[0m \u001b[0me\u001b[0m\u001b[1;33m:\u001b[0m\u001b[1;33m\u001b[0m\u001b[1;33m\u001b[0m\u001b[0m\n\u001b[1;32m-> 3627\u001b[1;33m         \u001b[1;32mraise\u001b[0m \u001b[0me\u001b[0m\u001b[1;33m\u001b[0m\u001b[1;33m\u001b[0m\u001b[0m\n\u001b[0m\u001b[0;32m   3628\u001b[0m \u001b[1;33m\u001b[0m\u001b[0m\n\u001b[0;32m   3629\u001b[0m \u001b[1;33m@\u001b[0m\u001b[0mgptooldoc\u001b[0m\u001b[1;33m(\u001b[0m\u001b[1;34m'CreateUnRegisteredFeatureclass_management'\u001b[0m\u001b[1;33m,\u001b[0m \u001b[1;32mNone\u001b[0m\u001b[1;33m)\u001b[0m\u001b[1;33m\u001b[0m\u001b[1;33m\u001b[0m\u001b[0m\n",
      "\u001b[1;32mc:\\Program Files\\ArcGIS\\Pro\\Resources\\ArcPy\\arcpy\\management.py\u001b[0m in \u001b[0;36mCreateFeatureclass\u001b[1;34m(out_path, out_name, geometry_type, template, has_m, has_z, spatial_reference, config_keyword, spatial_grid_1, spatial_grid_2, spatial_grid_3, out_alias, oid_type)\u001b[0m\n\u001b[0;32m   3622\u001b[0m     \u001b[1;32mfrom\u001b[0m \u001b[0marcpy\u001b[0m\u001b[1;33m.\u001b[0m\u001b[0marcobjects\u001b[0m\u001b[1;33m.\u001b[0m\u001b[0marcobjectconversion\u001b[0m \u001b[1;32mimport\u001b[0m \u001b[0mconvertArcObjectToPythonObject\u001b[0m\u001b[1;33m\u001b[0m\u001b[1;33m\u001b[0m\u001b[0m\n\u001b[0;32m   3623\u001b[0m     \u001b[1;32mtry\u001b[0m\u001b[1;33m:\u001b[0m\u001b[1;33m\u001b[0m\u001b[1;33m\u001b[0m\u001b[0m\n\u001b[1;32m-> 3624\u001b[1;33m         \u001b[0mretval\u001b[0m \u001b[1;33m=\u001b[0m \u001b[0mconvertArcObjectToPythonObject\u001b[0m\u001b[1;33m(\u001b[0m\u001b[0mgp\u001b[0m\u001b[1;33m.\u001b[0m\u001b[0mCreateFeatureclass_management\u001b[0m\u001b[1;33m(\u001b[0m\u001b[1;33m*\u001b[0m\u001b[0mgp_fixargs\u001b[0m\u001b[1;33m(\u001b[0m\u001b[1;33m(\u001b[0m\u001b[0mout_path\u001b[0m\u001b[1;33m,\u001b[0m \u001b[0mout_name\u001b[0m\u001b[1;33m,\u001b[0m \u001b[0mgeometry_type\u001b[0m\u001b[1;33m,\u001b[0m \u001b[0mtemplate\u001b[0m\u001b[1;33m,\u001b[0m \u001b[0mhas_m\u001b[0m\u001b[1;33m,\u001b[0m \u001b[0mhas_z\u001b[0m\u001b[1;33m,\u001b[0m \u001b[0mspatial_reference\u001b[0m\u001b[1;33m,\u001b[0m \u001b[0mconfig_keyword\u001b[0m\u001b[1;33m,\u001b[0m \u001b[0mspatial_grid_1\u001b[0m\u001b[1;33m,\u001b[0m \u001b[0mspatial_grid_2\u001b[0m\u001b[1;33m,\u001b[0m \u001b[0mspatial_grid_3\u001b[0m\u001b[1;33m,\u001b[0m \u001b[0mout_alias\u001b[0m\u001b[1;33m,\u001b[0m \u001b[0moid_type\u001b[0m\u001b[1;33m)\u001b[0m\u001b[1;33m,\u001b[0m \u001b[1;32mTrue\u001b[0m\u001b[1;33m)\u001b[0m\u001b[1;33m)\u001b[0m\u001b[1;33m)\u001b[0m\u001b[1;33m\u001b[0m\u001b[1;33m\u001b[0m\u001b[0m\n\u001b[0m\u001b[0;32m   3625\u001b[0m         \u001b[1;32mreturn\u001b[0m \u001b[0mretval\u001b[0m\u001b[1;33m\u001b[0m\u001b[1;33m\u001b[0m\u001b[0m\n\u001b[0;32m   3626\u001b[0m     \u001b[1;32mexcept\u001b[0m \u001b[0mException\u001b[0m \u001b[1;32mas\u001b[0m \u001b[0me\u001b[0m\u001b[1;33m:\u001b[0m\u001b[1;33m\u001b[0m\u001b[1;33m\u001b[0m\u001b[0m\n",
      "\u001b[1;32mc:\\Program Files\\ArcGIS\\Pro\\Resources\\ArcPy\\arcpy\\geoprocessing\\_base.py\u001b[0m in \u001b[0;36m<lambda>\u001b[1;34m(*args)\u001b[0m\n\u001b[0;32m    510\u001b[0m         \u001b[0mval\u001b[0m \u001b[1;33m=\u001b[0m \u001b[0mgetattr\u001b[0m\u001b[1;33m(\u001b[0m\u001b[0mself\u001b[0m\u001b[1;33m.\u001b[0m\u001b[0m_gp\u001b[0m\u001b[1;33m,\u001b[0m \u001b[0mattr\u001b[0m\u001b[1;33m)\u001b[0m\u001b[1;33m\u001b[0m\u001b[1;33m\u001b[0m\u001b[0m\n\u001b[0;32m    511\u001b[0m         \u001b[1;32mif\u001b[0m \u001b[0mcallable\u001b[0m\u001b[1;33m(\u001b[0m\u001b[0mval\u001b[0m\u001b[1;33m)\u001b[0m\u001b[1;33m:\u001b[0m\u001b[1;33m\u001b[0m\u001b[1;33m\u001b[0m\u001b[0m\n\u001b[1;32m--> 512\u001b[1;33m             \u001b[1;32mreturn\u001b[0m \u001b[1;32mlambda\u001b[0m \u001b[1;33m*\u001b[0m\u001b[0margs\u001b[0m\u001b[1;33m:\u001b[0m \u001b[0mval\u001b[0m\u001b[1;33m(\u001b[0m\u001b[1;33m*\u001b[0m\u001b[0mgp_fixargs\u001b[0m\u001b[1;33m(\u001b[0m\u001b[0margs\u001b[0m\u001b[1;33m,\u001b[0m \u001b[1;32mTrue\u001b[0m\u001b[1;33m)\u001b[0m\u001b[1;33m)\u001b[0m\u001b[1;33m\u001b[0m\u001b[1;33m\u001b[0m\u001b[0m\n\u001b[0m\u001b[0;32m    513\u001b[0m         \u001b[1;32melse\u001b[0m\u001b[1;33m:\u001b[0m\u001b[1;33m\u001b[0m\u001b[1;33m\u001b[0m\u001b[0m\n\u001b[0;32m    514\u001b[0m             \u001b[1;32mreturn\u001b[0m \u001b[0mconvertArcObjectToPythonObject\u001b[0m\u001b[1;33m(\u001b[0m\u001b[0mval\u001b[0m\u001b[1;33m)\u001b[0m\u001b[1;33m\u001b[0m\u001b[1;33m\u001b[0m\u001b[0m\n",
      "\u001b[1;31mExecuteError\u001b[0m: Failed to execute. Parameters are not valid.\nERROR 000354: The name contains invalid characters\nFailed to execute (CreateFeatureclass).\n"
     ]
    }
   ],
   "source": [
    "import arcpy\n",
    "import random\n",
    "import math\n",
    "import os\n",
    "\n",
    "# Set the input feature class and the output path for the random points\n",
    "input_fc = no_nearby_stores_v2  # Path to the feature class with the original points\n",
    "output_fc_points = os.path.join(gdb_path,\"final_out\")\n",
    "  # Path where you want to save the new random points\n",
    "output_fc_buffers = os.path.join(gdb_path,\"final_buf\")\n",
    "  # Path to save the buffers\n",
    "buffer_distance = 0.5  # Set buffer distance to 0.5 miles\n",
    "\n",
    "arcpy.management.CreateFeatureclass(gdb_path,output_fc_points,geometry_type=\"POINT\")\n",
    "arcpy.management.CreateFeatureclass(gdb_path,output_fc_buffers,geometry_type=\"POLYGON\")"
   ]
  },
  {
   "cell_type": "code",
   "execution_count": 27,
   "metadata": {},
   "outputs": [
    {
     "name": "stdout",
     "output_type": "stream",
     "text": [
      "OBJECTID\n",
      "Shape\n"
     ]
    }
   ],
   "source": [
    "\n",
    "for field in arcpy.ListFields(output_fc_points):\n",
    "    print(field.name)"
   ]
  },
  {
   "cell_type": "code",
   "execution_count": 29,
   "metadata": {},
   "outputs": [
    {
     "name": "stdout",
     "output_type": "stream",
     "text": [
      "Random points and their buffers generated successfully!\n"
     ]
    }
   ],
   "source": [
    "\n",
    "\n",
    "# Create an empty list to store the new random points\n",
    "random_points = []\n",
    "buffer_distance = 0.5\n",
    "# Start an edit session if needed for batch processing\n",
    "with arcpy.da.SearchCursor(input_fc, ['SHAPE@XY']) as cursor:\n",
    "    for row in cursor:\n",
    "        # Get the XY coordinates of the point\n",
    "        x, y = row[0]\n",
    "        \n",
    "        # Generate random distances and angles\n",
    "        radius = 0.5  # radius in miles\n",
    "        angle = random.uniform(0, 360)  # random angle in degrees\n",
    "        distance = random.uniform(0, radius)  # random distance within the radius\n",
    "        \n",
    "        # Convert the angle to radians\n",
    "        angle_rad = math.radians(angle)\n",
    "        \n",
    "        # Calculate the random point's X and Y coordinates based on polar coordinates\n",
    "        delta_x = distance * math.cos(angle_rad)\n",
    "        delta_y = distance * math.sin(angle_rad)\n",
    "        \n",
    "        # Add the random point by shifting the original point by the random delta_x and delta_y\n",
    "        random_x = x + delta_x\n",
    "        random_y = y + delta_y\n",
    "        \n",
    "        # Store the new point in the random_points list\n",
    "        random_points.append((random_x, random_y))\n",
    "\n",
    "# Create a new feature class to store the random points\n",
    "\n",
    "# Insert the random points into the new feature class\n",
    "with arcpy.da.InsertCursor(output_fc_points, ['SHAPE@XY']) as cursor:\n",
    "    for point in random_points:\n",
    "        cursor.insertRow([point])\n",
    "\n",
    "# Create the buffer around each random point\n",
    "with arcpy.da.SearchCursor(output_fc_points, ['SHAPE@XY']) as cursor:\n",
    "    for row in cursor:\n",
    "        point_geometry = arcpy.PointGeometry(arcpy.Point(row[0][0], row[0][1]))\n",
    "        \n",
    "        # Create the buffer around each point\n",
    "        buffer = point_geometry.buffer(buffer_distance)\n",
    "        \n",
    "        # Insert the buffer into the output feature class\n",
    "        with arcpy.da.InsertCursor(output_fc_buffers, ['SHAPE@']) as insert_cursor:\n",
    "            insert_cursor.insertRow([buffer])\n",
    "\n",
    "print(\"Random points and their buffers generated successfully!\")\n"
   ]
  },
  {
   "cell_type": "code",
   "execution_count": null,
   "metadata": {},
   "outputs": [],
   "source": []
  }
 ],
 "metadata": {
  "kernelspec": {
   "display_name": "arcgispro-py3",
   "language": "python",
   "name": "python3"
  },
  "language_info": {
   "codemirror_mode": {
    "name": "ipython",
    "version": 3
   },
   "file_extension": ".py",
   "mimetype": "text/x-python",
   "name": "python",
   "nbconvert_exporter": "python",
   "pygments_lexer": "ipython3",
   "version": "3.11.8"
  }
 },
 "nbformat": 4,
 "nbformat_minor": 2
}
