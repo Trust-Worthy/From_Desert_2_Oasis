{
 "cells": [
  {
   "cell_type": "code",
   "execution_count": 8,
   "metadata": {},
   "outputs": [
    {
     "name": "stdout",
     "output_type": "stream",
     "text": [
      "Geodatabase exists: C:\\Users\\jbfre\\Documents\\ArcGIS\\Projects\\From_Desert_2_Oasis\\From_Desert_2_Oasis.gdb\n"
     ]
    }
   ],
   "source": [
    "import arcpy\n",
    "import os\n",
    "from dotenv import load_dotenv\n",
    "from pathlib import Path\n",
    "import json\n",
    "import arcpy\n",
    "from arcpy.da import InsertCursor\n",
    "from shapely.geometry import Point\n",
    "import random\n",
    "import math\n",
    "\n",
    "###################################################\n",
    "########## path to geodatabase ####################\n",
    "load_dotenv() # --> load in path via env variable \n",
    "raw_path:str = os.getenv('GDB_PATH')\n",
    "GDB_PATH:str = r\"{}\".format(raw_path)\n",
    "if arcpy.Exists(GDB_PATH): \n",
    "    print(f\"Geodatabase exists: {GDB_PATH}\")\n",
    "else:\n",
    "    print(f\"Geodatabase DNE: {GDB_PATH}\")\n",
    "\n",
    "###################################################\n",
    "#####  Spatial Refernce for Project: WGS 84  ######\n",
    "\n",
    "SPATIAL_REF= arcpy.SpatialReference(4326) # WGS 84 (latitude/longitude)\n",
    "#SPATIAL_REF = arcpy.SpatialReference(26918)\n",
    "\n",
    "\n",
    "### Import the grocery store feature class ###\n",
    "GROCERY_FC = \"grocery_store_fc\"\n",
    "GROCERY_FC_PATH = os.path.join(GDB_PATH,GROCERY_FC)\n",
    "\n",
    "### Import the unhealthy food feature class ###\n",
    "UNHEALTHY_FOOD_FC = \"unhealthy_food_fc\"\n",
    "UNHEALTHY_FOOD_FC_PATH = os.path.join(GDB_PATH,UNHEALTHY_FOOD_FC)\n",
    "\n",
    "### grocery store buffer feature class for the 0.5 mile radius circle ###\n",
    "GROCERY_BUFFER_FC = \"grocery_buffer_fc\"\n",
    "GROCERY_BUFFER_FC_PATH = os.path.join(GDB_PATH,GROCERY_BUFFER_FC)"
   ]
  },
  {
   "cell_type": "code",
   "execution_count": 9,
   "metadata": {},
   "outputs": [
    {
     "name": "stdout",
     "output_type": "stream",
     "text": [
      "unhealthy food feature class exists \n",
      "grocery store feature class exists \n",
      "grocery store BUFFER feature class exists \n"
     ]
    }
   ],
   "source": [
    "### Verify that Grocery Store and unhealthy Food Feature classes exist ###\n",
    "if arcpy.Exists(UNHEALTHY_FOOD_FC_PATH):\n",
    "    print(\"unhealthy food feature class exists \")\n",
    "if arcpy.Exists(GROCERY_FC_PATH):\n",
    "    print(\"grocery store feature class exists \")\n",
    "if arcpy.Exists(GROCERY_BUFFER_FC_PATH):\n",
    "    print(\"grocery store BUFFER feature class exists \")"
   ]
  },
  {
   "cell_type": "code",
   "execution_count": 16,
   "metadata": {},
   "outputs": [],
   "source": [
    "### Create new Oasis feature class ###\n",
    "OASIS_FC = \"oasis_fc\"\n",
    "OASIS_FC_PATH = os.path.join(GDB_PATH,OASIS_FC)\n",
    "\n",
    "### Create new Oasis BUFFER feature  class ###\n",
    "OASIS_BUFFER_FC = \"oasis_buffer_fc\"\n",
    "OASIS_BUFFER_FC_PATH = os.path.join(GDB_PATH,OASIS_BUFFER_FC)\n",
    "\n",
    "\n",
    "# Create output feature classes if they do not exist\n",
    "if not arcpy.Exists(OASIS_FC_PATH):\n",
    "    arcpy.CreateFeatureclass_management(GDB_PATH, OASIS_FC, \"POINT\")\n",
    "if not arcpy.Exists(OASIS_BUFFER_FC_PATH):\n",
    "    arcpy.CreateFeatureclass_management(GDB_PATH, OASIS_BUFFER_FC, \"POLYGON\")"
   ]
  },
  {
   "cell_type": "code",
   "execution_count": 21,
   "metadata": {},
   "outputs": [],
   "source": [
    "# def check_grocery_nearby(unhealthy_food_point):\n",
    "#     # Create a 0.5-mile buffer around the unhealthy food point\n",
    "#     buffer_05mile = \"in_memory\\\\0.5mile_buffer\"\n",
    "#     arcpy.analysis.Buffer(unhealthy_food_point, buffer_05mile, \"0.5 Miles\")\n",
    "    \n",
    "#     # Find grocery stores within the 0.5-mile buffer\n",
    "#     grocery_in_buffer = \"in_memory\\\\grocery_in_buffer\"\n",
    "#     arcpy.analysis.Select(GROCERY_FC_PATH, grocery_in_buffer, f\"SHAPE WITHIN {buffer_05mile}\")\n",
    "    \n",
    "#     # Check if any grocery store is within 0.5 miles of the unhealthy food point\n",
    "#     for grocery in arcpy.da.SearchCursor(grocery_in_buffer, [\"SHAPE\"]):\n",
    "#         if grocery[0].distanceTo(unhealthy_food_point) <= 0.5 * 5280:  # 0.5 miles in feet\n",
    "#             return True  # Grocery store found nearby\n",
    "    \n",
    "#     return False  # No grocery store found nearby\n",
    "\n",
    "# def check_grocery_nearby(unhealthy_food_point):\n",
    "#     # Create a 0.5-mile buffer around the unhealthy food point\n",
    "#     buffer_05mile = \"in_memory\\\\0.5mile_buffer\"\n",
    "#     arcpy.analysis.Buffer(unhealthy_food_point, buffer_05mile, \"0.5 Miles\")\n",
    "    \n",
    "#     # Use a SearchCursor to find grocery stores within the 0.5-mile buffer\n",
    "#     grocery_in_buffer = \"in_memory\\\\grocery_in_buffer\"\n",
    "#     arcpy.management.SelectLayerByLocation(GROCERY_FC_PATH, \"WITHIN\", buffer_05mile)\n",
    "\n",
    "#     # If any grocery store is found in the buffer, return True\n",
    "#     if int(arcpy.GetCount_management(GROCERY_FC_PATH)[0]) > 0:\n",
    "#         return True\n",
    "    \n",
    "#     return False  # No grocery store found within the 0.5-mile buffer\n",
    "\n",
    "def check_grocery_nearby(unhealthy_food_point):\n",
    "    # Create a 0.5-mile buffer around the unhealthy food point\n",
    "    buffer_05mile = \"in_memory\\\\0.5mile_buffer\"\n",
    "    arcpy.analysis.Buffer(unhealthy_food_point, buffer_05mile, \"0.5 Miles\")\n",
    "    \n",
    "    # Select grocery stores within the 0.5-mile buffer\n",
    "    arcpy.management.SelectLayerByLocation(\"grocery_layer\", \"WITHIN\", buffer_05mile)\n",
    "    \n",
    "    # Check if any grocery store is within the buffer\n",
    "    if int(arcpy.GetCount_management(\"grocery_layer\")[0]) > 0:\n",
    "        return True\n",
    "    \n",
    "    return False  # No grocery store found within the 0.5-mile buffer\n"
   ]
  },
  {
   "cell_type": "code",
   "execution_count": 22,
   "metadata": {},
   "outputs": [],
   "source": [
    "def add_oasis_and_buffer(unhealthy_food_point):\n",
    "    # Generate random point within 0.5 miles of the unhealthy food point\n",
    "    # (0.5 miles = 2640 feet)\n",
    "    distance = 2640  # 0.5 miles in feet\n",
    "    random_angle = random.uniform(0, 360)\n",
    "    x_offset = distance * random.uniform(0, 1) * math.cos(math.radians(random_angle))\n",
    "    y_offset = distance * random.uniform(0, 1) * math.sin(math.radians(random_angle))\n",
    "    \n",
    "    # Create the new oasis point\n",
    "    oasis_point = arcpy.Point(unhealthy_food_point.X + x_offset, unhealthy_food_point.Y + y_offset)\n",
    "    \n",
    "    # Insert the new point into the oasis feature class\n",
    "    with arcpy.da.InsertCursor(OASIS_FC_PATH, [\"SHAPE\"]) as cursor:\n",
    "        cursor.insertRow([arcpy.PointGeometry(oasis_point)])\n",
    "    \n",
    "    # Create a buffer around the new oasis grocery store\n",
    "    oasis_buffer = \"in_memory\\\\oasis_buffer\"\n",
    "    arcpy.analysis.Buffer(arcpy.PointGeometry(oasis_point), oasis_buffer, \"0.5 Miles\")\n",
    "    \n",
    "    # Insert the new oasis buffer into the buffer feature class\n",
    "    with arcpy.da.InsertCursor(OASIS_BUFFER_FC_PATH, [\"SHAPE\"]) as cursor:\n",
    "        cursor.insertRow([arcpy.CopyFeatures_management(oasis_buffer)])\n"
   ]
  },
  {
   "cell_type": "code",
   "execution_count": 24,
   "metadata": {},
   "outputs": [
    {
     "ename": "RuntimeError",
     "evalue": "Object: Error in executing tool",
     "output_type": "error",
     "traceback": [
      "\u001b[1;31m---------------------------------------------------------------------------\u001b[0m",
      "\u001b[1;31mRuntimeError\u001b[0m                              Traceback (most recent call last)",
      "\u001b[1;32m~\\AppData\\Local\\Temp\\ipykernel_7472\\2532501071.py\u001b[0m in \u001b[0;36m<cell line: 0>\u001b[1;34m()\u001b[0m\n\u001b[0;32m      5\u001b[0m \u001b[1;33m\u001b[0m\u001b[0m\n\u001b[0;32m      6\u001b[0m         \u001b[1;31m# Create a 0.5-mile buffer around the unhealthy food point\u001b[0m\u001b[1;33m\u001b[0m\u001b[1;33m\u001b[0m\u001b[0m\n\u001b[1;32m----> 7\u001b[1;33m         \u001b[1;32mif\u001b[0m \u001b[1;32mnot\u001b[0m \u001b[0mcheck_grocery_nearby\u001b[0m\u001b[1;33m(\u001b[0m\u001b[0munhealthy_food_point\u001b[0m\u001b[1;33m)\u001b[0m\u001b[1;33m:\u001b[0m\u001b[1;33m\u001b[0m\u001b[1;33m\u001b[0m\u001b[0m\n\u001b[0m\u001b[0;32m      8\u001b[0m             \u001b[1;31m# If no grocery store is within 0.5 miles, add an oasis grocery store and create a buffer around it\u001b[0m\u001b[1;33m\u001b[0m\u001b[1;33m\u001b[0m\u001b[0m\n\u001b[0;32m      9\u001b[0m             \u001b[0madd_oasis_and_buffer\u001b[0m\u001b[1;33m(\u001b[0m\u001b[0munhealthy_food_point\u001b[0m\u001b[1;33m)\u001b[0m\u001b[1;33m\u001b[0m\u001b[1;33m\u001b[0m\u001b[0m\n",
      "\u001b[1;32m~\\AppData\\Local\\Temp\\ipykernel_7472\\591485365.py\u001b[0m in \u001b[0;36mcheck_grocery_nearby\u001b[1;34m(unhealthy_food_point)\u001b[0m\n\u001b[0;32m     33\u001b[0m     \u001b[1;31m# Create a 0.5-mile buffer around the unhealthy food point\u001b[0m\u001b[1;33m\u001b[0m\u001b[1;33m\u001b[0m\u001b[0m\n\u001b[0;32m     34\u001b[0m     \u001b[0mbuffer_05mile\u001b[0m \u001b[1;33m=\u001b[0m \u001b[1;34m\"in_memory\\\\0.5mile_buffer\"\u001b[0m\u001b[1;33m\u001b[0m\u001b[1;33m\u001b[0m\u001b[0m\n\u001b[1;32m---> 35\u001b[1;33m     \u001b[0marcpy\u001b[0m\u001b[1;33m.\u001b[0m\u001b[0manalysis\u001b[0m\u001b[1;33m.\u001b[0m\u001b[0mBuffer\u001b[0m\u001b[1;33m(\u001b[0m\u001b[0munhealthy_food_point\u001b[0m\u001b[1;33m,\u001b[0m \u001b[0mbuffer_05mile\u001b[0m\u001b[1;33m,\u001b[0m \u001b[1;34m\"0.5 Miles\"\u001b[0m\u001b[1;33m)\u001b[0m\u001b[1;33m\u001b[0m\u001b[1;33m\u001b[0m\u001b[0m\n\u001b[0m\u001b[0;32m     36\u001b[0m \u001b[1;33m\u001b[0m\u001b[0m\n\u001b[0;32m     37\u001b[0m     \u001b[1;31m# Select grocery stores within the 0.5-mile buffer\u001b[0m\u001b[1;33m\u001b[0m\u001b[1;33m\u001b[0m\u001b[0m\n",
      "\u001b[1;32mc:\\Program Files\\ArcGIS\\Pro\\Resources\\ArcPy\\arcpy\\analysis.py\u001b[0m in \u001b[0;36mBuffer\u001b[1;34m(in_features, out_feature_class, buffer_distance_or_field, line_side, line_end_type, dissolve_option, dissolve_field, method)\u001b[0m\n\u001b[0;32m   1284\u001b[0m         \u001b[1;32mreturn\u001b[0m \u001b[0mretval\u001b[0m\u001b[1;33m\u001b[0m\u001b[1;33m\u001b[0m\u001b[0m\n\u001b[0;32m   1285\u001b[0m     \u001b[1;32mexcept\u001b[0m \u001b[0mException\u001b[0m \u001b[1;32mas\u001b[0m \u001b[0me\u001b[0m\u001b[1;33m:\u001b[0m\u001b[1;33m\u001b[0m\u001b[1;33m\u001b[0m\u001b[0m\n\u001b[1;32m-> 1286\u001b[1;33m         \u001b[1;32mraise\u001b[0m \u001b[0me\u001b[0m\u001b[1;33m\u001b[0m\u001b[1;33m\u001b[0m\u001b[0m\n\u001b[0m\u001b[0;32m   1287\u001b[0m \u001b[1;33m\u001b[0m\u001b[0m\n\u001b[0;32m   1288\u001b[0m \u001b[1;33m@\u001b[0m\u001b[0mgptooldoc\u001b[0m\u001b[1;33m(\u001b[0m\u001b[1;34m'CreateThiessenPolygons_analysis'\u001b[0m\u001b[1;33m,\u001b[0m \u001b[1;32mNone\u001b[0m\u001b[1;33m)\u001b[0m\u001b[1;33m\u001b[0m\u001b[1;33m\u001b[0m\u001b[0m\n",
      "\u001b[1;32mc:\\Program Files\\ArcGIS\\Pro\\Resources\\ArcPy\\arcpy\\analysis.py\u001b[0m in \u001b[0;36mBuffer\u001b[1;34m(in_features, out_feature_class, buffer_distance_or_field, line_side, line_end_type, dissolve_option, dissolve_field, method)\u001b[0m\n\u001b[0;32m   1281\u001b[0m     \u001b[1;32mfrom\u001b[0m \u001b[0marcpy\u001b[0m\u001b[1;33m.\u001b[0m\u001b[0marcobjects\u001b[0m\u001b[1;33m.\u001b[0m\u001b[0marcobjectconversion\u001b[0m \u001b[1;32mimport\u001b[0m \u001b[0mconvertArcObjectToPythonObject\u001b[0m\u001b[1;33m\u001b[0m\u001b[1;33m\u001b[0m\u001b[0m\n\u001b[0;32m   1282\u001b[0m     \u001b[1;32mtry\u001b[0m\u001b[1;33m:\u001b[0m\u001b[1;33m\u001b[0m\u001b[1;33m\u001b[0m\u001b[0m\n\u001b[1;32m-> 1283\u001b[1;33m         \u001b[0mretval\u001b[0m \u001b[1;33m=\u001b[0m \u001b[0mconvertArcObjectToPythonObject\u001b[0m\u001b[1;33m(\u001b[0m\u001b[0mgp\u001b[0m\u001b[1;33m.\u001b[0m\u001b[0mBuffer_analysis\u001b[0m\u001b[1;33m(\u001b[0m\u001b[1;33m*\u001b[0m\u001b[0mgp_fixargs\u001b[0m\u001b[1;33m(\u001b[0m\u001b[1;33m(\u001b[0m\u001b[0min_features\u001b[0m\u001b[1;33m,\u001b[0m \u001b[0mout_feature_class\u001b[0m\u001b[1;33m,\u001b[0m \u001b[0mbuffer_distance_or_field\u001b[0m\u001b[1;33m,\u001b[0m \u001b[0mline_side\u001b[0m\u001b[1;33m,\u001b[0m \u001b[0mline_end_type\u001b[0m\u001b[1;33m,\u001b[0m \u001b[0mdissolve_option\u001b[0m\u001b[1;33m,\u001b[0m \u001b[0mdissolve_field\u001b[0m\u001b[1;33m,\u001b[0m \u001b[0mmethod\u001b[0m\u001b[1;33m)\u001b[0m\u001b[1;33m,\u001b[0m \u001b[1;32mTrue\u001b[0m\u001b[1;33m)\u001b[0m\u001b[1;33m)\u001b[0m\u001b[1;33m)\u001b[0m\u001b[1;33m\u001b[0m\u001b[1;33m\u001b[0m\u001b[0m\n\u001b[0m\u001b[0;32m   1284\u001b[0m         \u001b[1;32mreturn\u001b[0m \u001b[0mretval\u001b[0m\u001b[1;33m\u001b[0m\u001b[1;33m\u001b[0m\u001b[0m\n\u001b[0;32m   1285\u001b[0m     \u001b[1;32mexcept\u001b[0m \u001b[0mException\u001b[0m \u001b[1;32mas\u001b[0m \u001b[0me\u001b[0m\u001b[1;33m:\u001b[0m\u001b[1;33m\u001b[0m\u001b[1;33m\u001b[0m\u001b[0m\n",
      "\u001b[1;32mc:\\Program Files\\ArcGIS\\Pro\\Resources\\ArcPy\\arcpy\\geoprocessing\\_base.py\u001b[0m in \u001b[0;36m<lambda>\u001b[1;34m(*args)\u001b[0m\n\u001b[0;32m    510\u001b[0m         \u001b[0mval\u001b[0m \u001b[1;33m=\u001b[0m \u001b[0mgetattr\u001b[0m\u001b[1;33m(\u001b[0m\u001b[0mself\u001b[0m\u001b[1;33m.\u001b[0m\u001b[0m_gp\u001b[0m\u001b[1;33m,\u001b[0m \u001b[0mattr\u001b[0m\u001b[1;33m)\u001b[0m\u001b[1;33m\u001b[0m\u001b[1;33m\u001b[0m\u001b[0m\n\u001b[0;32m    511\u001b[0m         \u001b[1;32mif\u001b[0m \u001b[0mcallable\u001b[0m\u001b[1;33m(\u001b[0m\u001b[0mval\u001b[0m\u001b[1;33m)\u001b[0m\u001b[1;33m:\u001b[0m\u001b[1;33m\u001b[0m\u001b[1;33m\u001b[0m\u001b[0m\n\u001b[1;32m--> 512\u001b[1;33m             \u001b[1;32mreturn\u001b[0m \u001b[1;32mlambda\u001b[0m \u001b[1;33m*\u001b[0m\u001b[0margs\u001b[0m\u001b[1;33m:\u001b[0m \u001b[0mval\u001b[0m\u001b[1;33m(\u001b[0m\u001b[1;33m*\u001b[0m\u001b[0mgp_fixargs\u001b[0m\u001b[1;33m(\u001b[0m\u001b[0margs\u001b[0m\u001b[1;33m,\u001b[0m \u001b[1;32mTrue\u001b[0m\u001b[1;33m)\u001b[0m\u001b[1;33m)\u001b[0m\u001b[1;33m\u001b[0m\u001b[1;33m\u001b[0m\u001b[0m\n\u001b[0m\u001b[0;32m    513\u001b[0m         \u001b[1;32melse\u001b[0m\u001b[1;33m:\u001b[0m\u001b[1;33m\u001b[0m\u001b[1;33m\u001b[0m\u001b[0m\n\u001b[0;32m    514\u001b[0m             \u001b[1;32mreturn\u001b[0m \u001b[0mconvertArcObjectToPythonObject\u001b[0m\u001b[1;33m(\u001b[0m\u001b[0mval\u001b[0m\u001b[1;33m)\u001b[0m\u001b[1;33m\u001b[0m\u001b[1;33m\u001b[0m\u001b[0m\n",
      "\u001b[1;31mRuntimeError\u001b[0m: Object: Error in executing tool"
     ]
    }
   ],
   "source": [
    "# Loop through all unhealthy food locations\n",
    "with arcpy.da.SearchCursor(UNHEALTHY_FOOD_FC_PATH, [\"SHAPE\"]) as cursor:\n",
    "    for row in cursor:\n",
    "        unhealthy_food_point = row[0]\n",
    "        \n",
    "        # Create a 0.5-mile buffer around the unhealthy food point\n",
    "        if not check_grocery_nearby(unhealthy_food_point):\n",
    "            # If no grocery store is within 0.5 miles, add an oasis grocery store and create a buffer around it\n",
    "            add_oasis_and_buffer(unhealthy_food_point)\n"
   ]
  }
 ],
 "metadata": {
  "kernelspec": {
   "display_name": "arcgispro-py3",
   "language": "python",
   "name": "python3"
  },
  "language_info": {
   "codemirror_mode": {
    "name": "ipython",
    "version": 3
   },
   "file_extension": ".py",
   "mimetype": "text/x-python",
   "name": "python",
   "nbconvert_exporter": "python",
   "pygments_lexer": "ipython3",
   "version": "3.11.8"
  }
 },
 "nbformat": 4,
 "nbformat_minor": 2
}
