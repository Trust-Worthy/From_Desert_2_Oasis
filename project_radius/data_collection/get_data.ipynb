{
 "cells": [
  {
   "cell_type": "code",
   "execution_count": 3,
   "metadata": {},
   "outputs": [],
   "source": [
    "import os\n",
    "import requests\n",
    "from dotenv import load_dotenv\n",
    "load_dotenv()\n",
    "\n",
    "### Global variables\n",
    "PLACES_KEY = os.getenv(\"PLACES_KEY\")\n",
    "ROC = '43.1566,-77.6088'  # Rochester, NY coordinates\n",
    "RADIUS = 15000  # Search within 15 km radius"
   ]
  },
  {
   "cell_type": "code",
   "execution_count": 11,
   "metadata": {},
   "outputs": [
    {
     "data": {
      "text/plain": [
       "''"
      ]
     },
     "execution_count": 11,
     "metadata": {},
     "output_type": "execute_result"
    }
   ],
   "source": [
    "### Creating python dictionary to hold all addresses and coordinates for food locations\n",
    "grocery_locations = dict()\n",
    "ff_locations = dict()\n",
    "cornerstore_locations = dict()\n",
    "convenience_locations = dict()\n",
    "mini_mart_locations = dict()\n",
    "farmers_market_locations = dict()\n",
    "food_bank_locations = dict()\n",
    "drugs_nliquor_locations = dict()\n",
    "\n",
    "'''\n",
    "key = address\n",
    "value = [longitude, latitude]\n",
    "'''\n",
    "\n",
    "\n"
   ]
  },
  {
   "cell_type": "markdown",
   "metadata": {},
   "source": [
    "### Functions to process the Google Maps API call & process the json data"
   ]
  },
  {
   "cell_type": "code",
   "execution_count": null,
   "metadata": {},
   "outputs": [],
   "source": [
    "from typing import Optional\n",
    "def maps_query(query:str, location:str=ROC,radius:int=RADIUS,api_key:str=PLACES_KEY)->str:\n",
    "    \"\"\"_summary_\n",
    "\n",
    "    Args:\n",
    "        query (str): _description_\n",
    "        location (str, optional): _description_. Defaults to ROC.\n",
    "        radius (int, optional): _description_. Defaults to RADIUS.\n",
    "        api_key (str, optional): _description_. Defaults to PLACES_KEY.\n",
    "\n",
    "    Returns:\n",
    "        str: _description_\n",
    "    \"\"\"\n",
    "    search_url = f\"https://maps.googleapis.com/maps/api/place/nearbysearch/json?location={location}&radius={radius}&type={query}&key={api_key}\"\n",
    "    return search_url\n",
    "def perform_search(input_url:str)->object:\n",
    "    \"\"\"_summary_\n",
    "\n",
    "    Args:\n",
    "        input_url (str): _description_\n",
    "\n",
    "    Returns:\n",
    "        object: _description_\n",
    "    \"\"\"\n",
    "    response = requests.get(input_url)\n",
    "    return response.json()\n",
    "def process_json(json_data:object,location_dict:dict, flag:bool)->Optional[list]:\n",
    "    \"\"\"_summary_\n",
    "\n",
    "    Args:\n",
    "        json_data (object): _description_\n",
    "        location_dict (dict): _description_\n",
    "        flag (bool): _description_\n",
    "\n",
    "    Returns:\n",
    "        list: _description_\n",
    "    \"\"\"\n",
    "    if(flag):\n",
    "        name_set:set = set()\n",
    "        for place in json_data['results']:\n",
    "            ### Add name of location to do a set for a 2nd maps query to ensure all locations in ROC are accounted for\n",
    "            name = place[\"name\"]\n",
    "            name_set.add(name)\n",
    "\n",
    "            address:str = place.get('vicinity','No address')\n",
    "\n",
    "            ### If address is already in the dictionary continue to next entry in json\n",
    "            if address in location_dict:\n",
    "                continue\n",
    "\n",
    "            lat:float = place['geometry']['location']['lat']\n",
    "            lng:float = place['geometry']['location']['lng']\n",
    "\n",
    "            ### If latitude and longitude is already a value in the dictionary continue to next entry in json\n",
    "            if (lat,lng) in grocery_locations.values():\n",
    "                continue\n",
    "            ### else add this entry into the dictionary\n",
    "            location_dict[address] = (lat,lng)\n",
    "        \n",
    "        return [name_set,location_dict]\n",
    "    else:\n",
    "        for place in json_data['results']:\n",
    "\n",
    "            address:str = place.get('vicinity','No address')\n",
    "\n",
    "            ### If address is already in the dictionary continue to next entry in json\n",
    "            if address in location_dict:\n",
    "                continue\n",
    "\n",
    "            lat:float = place['geometry']['location']['lat']\n",
    "            lng:float = place['geometry']['location']['lng']\n",
    "\n",
    "            ### If latitude and longitude is already a value in the dictionary continue to next entry in json\n",
    "            if (lat,lng) in grocery_locations.values():\n",
    "                continue\n",
    "            ### else add this entry into the dictionary\n",
    "            location_dict[address] = (lat,lng)\n",
    "        \n",
    "\n",
    "def check_names(name_and_dict:list)->None:\n",
    "    \"\"\"_summary_\n",
    "\n",
    "    Args:\n",
    "        name_and_dict (list): _description_\n",
    "    \"\"\"\n",
    "    names:tuple = name_and_dict[0]\n",
    "    location_dict:dict = name_and_dict[1]\n",
    "    for name in names:\n",
    "        search_url = maps_query(name)\n",
    "        response_json = perform_search(search_url)\n",
    "        process_json(response_json,location_dict,False)\n",
    "\n",
    "def print_locations(location_dict:dict)->None:\n",
    "    \"\"\"_summary_\n",
    "\n",
    "    Args:\n",
    "        location_dict (dict): _description_\n",
    "    \"\"\"\n",
    "    for key, value in location_dict.items():\n",
    "        print(f\"Location:{key} , coordinates{value[0],value[1]}\")\n",
    "\n"
   ]
  },
  {
   "cell_type": "markdown",
   "metadata": {},
   "source": [
    "##### Grocery Store Code"
   ]
  },
  {
   "cell_type": "code",
   "execution_count": null,
   "metadata": {},
   "outputs": [],
   "source": [
    "### Grocery store query ###\n",
    "grocery_url = maps_query()\n",
    "\n",
    "grocery_response = requests.get(grocery_url)\n",
    "grocery_data = grocery_response.json()\n",
    "for place in grocery_data['results']:\n",
    "    name = place[\"name\"]\n",
    "    address = place.get('vicinity', 'No address')\n",
    "    if address in grocery_locations: continue\n",
    "    lat:float = place['geometry']['location']['lat']\n",
    "    lng:float = place['geometry']['location']['lng']\n",
    "    if [lat,lng] in grocery_locations.values():continue\n",
    "\n"
   ]
  },
  {
   "cell_type": "code",
   "execution_count": null,
   "metadata": {},
   "outputs": [],
   "source": [
    "\n",
    "\n",
    "\n",
    "### Fast food query ###\n",
    "ff_url = f\"https://maps.googleapis.com/maps/api/place/nearbysearch/json?location={location}&radius={radius}&type=&key={api_key}\"\n",
    "\n",
    "### Cornerstore \n",
    "cornerstore_url = f\"https://maps.googleapis.com/maps/api/place/nearbysearch/json?location={location}&radius={radius}&type=&key={api_key}\"\n",
    "\n",
    "### Convenience store  \n",
    "convenience_url = f\"https://maps.googleapis.com/maps/api/place/nearbysearch/json?location={location}&radius={radius}&type=&key={api_key}\"\n",
    "\n",
    "### Mini mart\n",
    "\n",
    "### Farmers Market\n",
    "\n",
    "### Food Bank\n",
    "\n",
    "### Liquor Stores ###\n",
    "liquor_url = f\"https://maps.googleapis.com/maps/api/place/nearbysearch/json?location={location}&radius={radius}&type=&key={api_key}\""
   ]
  },
  {
   "cell_type": "code",
   "execution_count": null,
   "metadata": {},
   "outputs": [],
   "source": [
    "\n",
    "    "
   ]
  },
  {
   "cell_type": "code",
   "execution_count": null,
   "metadata": {},
   "outputs": [],
   "source": [
    "### Responses ###\n",
    "\n",
    "ff_respone = requests.get(ff_url)\n",
    "cornerstore_response = requests.get(cornerstore_url)\n",
    "liquor__response = requests.get(liquor_url)\n",
    "\n",
    "\n",
    "data = response.json()\n",
    "\n",
    "print(data)\n",
    "count: int = 0\n",
    "for place in data['results']:\n",
    "    name = place['name']\n",
    "    address = place.get('vicinity', 'No address')\n",
    "    lat = place['geometry']['location']['lat']\n",
    "    lng = place['geometry']['location']['lng']\n",
    "    print(f\"{name} - {address} - Latitude: {lat}, Longitude: {lng}\")\n",
    "    count+=1\n",
    "print()\n",
    "print(count)"
   ]
  },
  {
   "cell_type": "markdown",
   "metadata": {},
   "source": [
    "### Healthy ROC Grocer Program Partner Stores\n",
    "[Healthy ROC Grocer Program](https://www.cityofrochester.gov/departments/mayors-office/healthy-roc-grocer-program)"
   ]
  },
  {
   "cell_type": "code",
   "execution_count": null,
   "metadata": {},
   "outputs": [],
   "source": [
    "### Reverse Geo-coding Healthy ROC Grocer Locations and ensuring all locations are included "
   ]
  }
 ],
 "metadata": {
  "kernelspec": {
   "display_name": "viz-data-env",
   "language": "python",
   "name": "python3"
  },
  "language_info": {
   "codemirror_mode": {
    "name": "ipython",
    "version": 3
   },
   "file_extension": ".py",
   "mimetype": "text/x-python",
   "name": "python",
   "nbconvert_exporter": "python",
   "pygments_lexer": "ipython3",
   "version": "3.12.2"
  }
 },
 "nbformat": 4,
 "nbformat_minor": 2
}
