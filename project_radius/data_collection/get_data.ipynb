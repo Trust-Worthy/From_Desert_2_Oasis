{
 "cells": [
  {
   "cell_type": "code",
   "execution_count": 3,
   "metadata": {},
   "outputs": [],
   "source": [
    "import os\n",
    "import requests\n",
    "from dotenv import load_dotenv\n",
    "load_dotenv()\n",
    "google_places_key = os.getenv(\"PLACES_KEY\")"
   ]
  },
  {
   "cell_type": "code",
   "execution_count": 11,
   "metadata": {},
   "outputs": [
    {
     "data": {
      "text/plain": [
       "''"
      ]
     },
     "execution_count": 11,
     "metadata": {},
     "output_type": "execute_result"
    }
   ],
   "source": [
    "### Creating python dictionary to hold all addresses and coordinates for food locations\n",
    "grocery_locations = dict()\n",
    "ff_locations = dict()\n",
    "cornerstore_locations = dict()\n",
    "convenience_locations = dict()\n",
    "mini_mart_locations = dict()\n",
    "farmers_market_locations = dict()\n",
    "food_bank_locations = dict()\n",
    "drugs_nliquor_locations = dict()\n",
    "\n",
    "'''\n",
    "key = address\n",
    "value = [longitude, latitude]\n",
    "'''\n",
    "\n",
    "api_key = google_places_key\n",
    "location = '43.1566,-77.6088'  # Rochester, NY coordinates\n",
    "radius = 15000  # Search within 15 km radius\n"
   ]
  },
  {
   "cell_type": "markdown",
   "metadata": {},
   "source": [
    "##### Grocery Store Code"
   ]
  },
  {
   "cell_type": "code",
   "execution_count": null,
   "metadata": {},
   "outputs": [],
   "source": [
    "### Grocery store query ###\n",
    "grocery_url = f\"https://maps.googleapis.com/maps/api/place/nearbysearch/json?location={location}&radius={radius}&type=grocery_or_supermarket&key={api_key}\"\n",
    "\n",
    "grocery_response = requests.get(grocery_url)\n",
    "grocery_data = grocery_response.json()\n",
    "for place in grocery_data['results']:\n",
    "    address = place.get('vicinity', 'No address')\n",
    "    if address == \"No address\": continue\n",
    "    if address in grocery_locations: continue\n",
    "    lat = place['geometry']['location']['lat']\n",
    "    lng = place['geometry']['location']['lng']\n"
   ]
  },
  {
   "cell_type": "code",
   "execution_count": null,
   "metadata": {},
   "outputs": [],
   "source": [
    "\n",
    "\n",
    "\n",
    "### Fast food query ###\n",
    "ff_url = f\"https://maps.googleapis.com/maps/api/place/nearbysearch/json?location={location}&radius={radius}&type=&key={api_key}\"\n",
    "\n",
    "### Cornerstore \n",
    "cornerstore_url = f\"https://maps.googleapis.com/maps/api/place/nearbysearch/json?location={location}&radius={radius}&type=&key={api_key}\"\n",
    "\n",
    "### Convenience store  \n",
    "convenience_url = f\"https://maps.googleapis.com/maps/api/place/nearbysearch/json?location={location}&radius={radius}&type=&key={api_key}\"\n",
    "\n",
    "### Mini mart\n",
    "\n",
    "### Farmers Market\n",
    "\n",
    "### Food Bank\n",
    "\n",
    "### Liquor Stores ###\n",
    "liquor_url = f\"https://maps.googleapis.com/maps/api/place/nearbysearch/json?location={location}&radius={radius}&type=&key={api_key}\""
   ]
  },
  {
   "cell_type": "code",
   "execution_count": null,
   "metadata": {},
   "outputs": [],
   "source": [
    "\n",
    "    "
   ]
  },
  {
   "cell_type": "code",
   "execution_count": null,
   "metadata": {},
   "outputs": [],
   "source": [
    "### Responses ###\n",
    "\n",
    "ff_respone = requests.get(ff_url)\n",
    "cornerstore_response = requests.get(cornerstore_url)\n",
    "liquor__response = requests.get(liquor_url)\n",
    "\n",
    "\n",
    "data = response.json()\n",
    "\n",
    "print(data)\n",
    "count: int = 0\n",
    "for place in data['results']:\n",
    "    name = place['name']\n",
    "    address = place.get('vicinity', 'No address')\n",
    "    lat = place['geometry']['location']['lat']\n",
    "    lng = place['geometry']['location']['lng']\n",
    "    print(f\"{name} - {address} - Latitude: {lat}, Longitude: {lng}\")\n",
    "    count+=1\n",
    "print()\n",
    "print(count)"
   ]
  },
  {
   "cell_type": "markdown",
   "metadata": {},
   "source": [
    "### Healthy ROC Grocer Program Partner Stores\n",
    "[Healthy ROC Grocer Program](https://www.cityofrochester.gov/departments/mayors-office/healthy-roc-grocer-program)"
   ]
  },
  {
   "cell_type": "code",
   "execution_count": null,
   "metadata": {},
   "outputs": [],
   "source": [
    "### Reverse Geo-coding Healthy ROC Grocer Locations and ensuring all locations are included "
   ]
  }
 ],
 "metadata": {
  "kernelspec": {
   "display_name": "viz-data-env",
   "language": "python",
   "name": "python3"
  },
  "language_info": {
   "codemirror_mode": {
    "name": "ipython",
    "version": 3
   },
   "file_extension": ".py",
   "mimetype": "text/x-python",
   "name": "python",
   "nbconvert_exporter": "python",
   "pygments_lexer": "ipython3",
   "version": "3.12.2"
  }
 },
 "nbformat": 4,
 "nbformat_minor": 2
}
